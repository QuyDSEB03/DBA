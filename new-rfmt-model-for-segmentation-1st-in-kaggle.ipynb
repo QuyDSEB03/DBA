{
 "cells": [
  {
   "cell_type": "markdown",
   "id": "8c298a59",
   "metadata": {
    "papermill": {
     "duration": 0.011803,
     "end_time": "2023-07-24T12:25:43.037211",
     "exception": false,
     "start_time": "2023-07-24T12:25:43.025408",
     "status": "completed"
    },
    "tags": []
   },
   "source": [
    "<p style=\"background-color:#ff0000;font-family:Georgia;color:#ff0000;font-size:105%;text-align:center;border-radius:10px 10px;border-style: dotted;border-width:17px;border-color:#ff0000;\"></p>\n",
    "<h1 style=\"color:black;font-size:50px;font-family:Georgia;text-align:center;\">👨‍💻<strong>Customer <strong style=\"color:#ff0000;font-size:47px;font-family:Georgia;\">Segmentation<strong style=\"color:black;font-size:50px;font-family:Georgia;\"> by Enhanced RFM</strong></strong></strong>👨‍💻</h1>\n",
    "\n",
    "<p style= \"font-family:Georgia;color:#000000;font-size:110%;text-align:center;\">This Notebook introduce new dimension called Inter-Purchase Time(T) to the traditional RFM (Recency, Frequency and Monatery) Model. New attribute \"T\" will include the customer dynamic purchasing behaviour within their shopping cycle.<br>\n",
    "But why RFMT? although RFM model is been in use predominantly across industries..<br>\n",
    "Well, lets quickly look at some facts.<br>\n",
    "RFM Model was proposed by Hughes in 1994 to analyze customer behaviors. Implementing RFM Model permanently is challenging due to the unpredictable nature of human behavior and the potential for inaccurate results. Therefore, it is vital to include criteria which explain the buying habit of individuals. So lets 🏊‍♂️ into context. <br>\n",
    "<b>Your UPVOTE == Encouragement to do such notebooks in future</b>\n",
    "<b>and Check my other notebooks for many such content(links in below).</b></p>\n",
    "<p style=\"background-color:#ff0000;font-family:Georgia;color:#ff0000;font-size:105%;text-align:center;border-radius:10px 10px;border-style: dotted;border-width:17px;border-color:#ff0000;\"></p>\n",
    "\n",
    "\n",
    "<h1 style=\"color:black;font-size:40px;font-family:Georgia;text-align:center;\">👨‍💻<strong>Introduction</strong>👨‍💻</h1>\n",
    "<p style= \"font-family:Georgia;color:#000000;font-size:110%;text-align:center;\">Customer segmentation is a process of dividing all customers into distinct groups that share similar characteristics, such as demographics, interests, patterns, or location, and can help a business focus marketing efforts and resources on valuable, loyal customers to achieve business goals.Customer segmentation can be performed with customers’ demographic, geographic, behavioral, and psychological data.Digital business has increased rapidly during covid-19 and it is extremely important to maintain long-term relationship with customer.In US, 85% of new product launch was reported failed because for poor market segmentaton.therefore, more study and improvments is required on the consumer behavioural and engagement.</p>\n",
    "<p style=\"background-color:#ff0000;font-family:Georgia;color:#ff0000;font-size:105%;text-align:center;border-radius:10px 10px;border-style: dotted;border-width:17px;border-color:#ff0000;\"></p>\n",
    "\n",
    "<h1 style=\"color:black;font-size:40px;font-family:Georgia;text-align:center;\">👨‍💻<strong>About DataSet </strong>👨‍💻</h1>\n",
    "<center><a href=\"https://www.kaggle.com/datasets/mashlyn/online-retail-ii-uci\">Click here to know about data set</a></center> </p>\n",
    "\n",
    "\n",
    "\n",
    "\n",
    "<p style=\"background-color:#ff0000;font-family:Georgia;color:#ff0000;font-size:105%;text-align:center;border-radius:10px 10px;border-style: dotted;border-width:17px;border-color:#ff0000;\"></p>\n",
    "<h1 style=\"color:black;font-size:40px;font-family:Georgia;text-align:center;\">👨‍💻<strong>Table <strong style=\"color:#ff0000;font-size:37px;font-family:Georgia;\">Of <strong style=\"color:black;font-size:40px;font-family:Georgia;\">The <strong style=\"color:#ff0000;font-size:37px;font-family:Georgia;\">Contents</strong></strong></strong></strong>👨‍💻</h1>\n",
    "\n",
    "* [Importing The Libraries.](#1)\n",
    "* [Loading & Reading The Dataset.](#2)\n",
    "* [Exploring Dataset.](#3)\n",
    "* [Data Wrangling.](#4)\n",
    "* [Exploratory Data Analysis.](#5)\n",
    "* [New Feature Extraction.](#6)\n",
    "* [Modelling with K-Means Algorithm.](#7)\n",
    "* [Model Evaluation.](#8)\n",
    "* [Future work.](#9)\n",
    "* [Credits.](#10)\n",
    "* [Other Notebooks.](#11)\n"
   ]
  },
  {
   "cell_type": "markdown",
   "id": "997a201d",
   "metadata": {
    "papermill": {
     "duration": 0.01103,
     "end_time": "2023-07-24T12:25:43.059694",
     "exception": false,
     "start_time": "2023-07-24T12:25:43.048664",
     "status": "completed"
    },
    "tags": []
   },
   "source": [
    "<a id=\"1\"></a>\n",
    "<p style=\"background-color:#ff0000;font-family:Georgia;color:#ff0000;font-size:105%;text-align:center;border-radius:10px 10px;border-style: dotted;border-width:17px;border-color:#ff0000;\"></p>\n",
    "<h1 style=\"color:black;font-size:32px;font-family:Georgia;text-align:center;\">👨‍💻<strong>Importing <strong style=\"color:#ff0000;font-size:30px;font-family:Georgia;\">The <strong style=\"color:black;font-size:32px;font-family:Georgia;\">Libraries</strong></strong></strong>👨‍💻</h1>"
   ]
  },
  {
   "cell_type": "code",
   "execution_count": 1,
   "id": "72fdeebf",
   "metadata": {
    "_kg_hide-input": true,
    "execution": {
     "iopub.execute_input": "2023-07-24T12:25:43.083757Z",
     "iopub.status.busy": "2023-07-24T12:25:43.083078Z",
     "iopub.status.idle": "2023-07-24T12:25:45.026375Z",
     "shell.execute_reply": "2023-07-24T12:25:45.025411Z"
    },
    "papermill": {
     "duration": 1.958176,
     "end_time": "2023-07-24T12:25:45.028912",
     "exception": false,
     "start_time": "2023-07-24T12:25:43.070736",
     "status": "completed"
    },
    "tags": []
   },
   "outputs": [],
   "source": [
    "import pandas as pd\n",
    "import numpy as np\n",
    "import datetime as dt\n",
    "import seaborn as sns\n",
    "import matplotlib\n",
    "%matplotlib inline\n",
    "import matplotlib.pyplot as plt\n",
    "from sklearn.cluster import KMeans\n",
    "from sklearn.preprocessing import StandardScaler\n",
    "from yellowbrick.cluster import KElbowVisualizer\n",
    "from numpy import math\n",
    "import warnings\n",
    "warnings.simplefilter(action='ignore', category=FutureWarning)"
   ]
  },
  {
   "cell_type": "markdown",
   "id": "ca7b11dc",
   "metadata": {
    "papermill": {
     "duration": 0.011005,
     "end_time": "2023-07-24T12:25:45.051480",
     "exception": false,
     "start_time": "2023-07-24T12:25:45.040475",
     "status": "completed"
    },
    "tags": []
   },
   "source": [
    "<a id=\"2\"></a>\n",
    "<p style=\"background-color:#ff0000;font-family:Georgia;color:#ff0000;font-size:105%;text-align:center;border-radius:10px 10px;border-style: dotted;border-width:15px;border-color:#ff0000;\"></p>\n",
    "<h1 style=\"color:black;font-size:32px;font-family:Georgia;text-align:center;\">👨‍💻<strong>Loading <strong style=\"color:#ff0000;font-size:30px;font-family:Georgia;\">and <strong style=\"color:black;font-size:32px;font-family:Georgia;\">Reading <strong style=\"color:#ff0000;font-size:30px;font-family:Georgia;\">the <strong style=\"color:black;font-size:32px;font-family:Georgia;\">Dataset </strong></strong></strong></strong></strong>👨‍💻</h1>"
   ]
  },
  {
   "cell_type": "code",
   "execution_count": 2,
   "id": "605a3607",
   "metadata": {
    "execution": {
     "iopub.execute_input": "2023-07-24T12:25:45.075591Z",
     "iopub.status.busy": "2023-07-24T12:25:45.074731Z",
     "iopub.status.idle": "2023-07-24T12:25:47.711600Z",
     "shell.execute_reply": "2023-07-24T12:25:47.710465Z"
    },
    "papermill": {
     "duration": 2.651734,
     "end_time": "2023-07-24T12:25:47.714301",
     "exception": false,
     "start_time": "2023-07-24T12:25:45.062567",
     "status": "completed"
    },
    "tags": []
   },
   "outputs": [
    {
     "name": "stdout",
     "output_type": "stream",
     "text": [
      "--------------------------------------------------\n",
      " Data imported successfully!!\n"
     ]
    },
    {
     "data": {
      "text/html": [
       "<style type=\"text/css\">\n",
       "#T_ffb8c_row0_col0, #T_ffb8c_row0_col1, #T_ffb8c_row0_col2, #T_ffb8c_row0_col3, #T_ffb8c_row0_col4, #T_ffb8c_row0_col5, #T_ffb8c_row0_col6, #T_ffb8c_row0_col7, #T_ffb8c_row1_col0, #T_ffb8c_row1_col1, #T_ffb8c_row1_col2, #T_ffb8c_row1_col3, #T_ffb8c_row1_col4, #T_ffb8c_row1_col5, #T_ffb8c_row1_col6, #T_ffb8c_row1_col7, #T_ffb8c_row2_col0, #T_ffb8c_row2_col1, #T_ffb8c_row2_col2, #T_ffb8c_row2_col3, #T_ffb8c_row2_col4, #T_ffb8c_row2_col5, #T_ffb8c_row2_col6, #T_ffb8c_row2_col7 {\n",
       "  background-color: #cd5c5c;\n",
       "  color: black;\n",
       "  border-color: black;\n",
       "}\n",
       "</style>\n",
       "<table id=\"T_ffb8c\">\n",
       "  <thead>\n",
       "    <tr>\n",
       "      <th class=\"blank level0\" >&nbsp;</th>\n",
       "      <th id=\"T_ffb8c_level0_col0\" class=\"col_heading level0 col0\" >Invoice</th>\n",
       "      <th id=\"T_ffb8c_level0_col1\" class=\"col_heading level0 col1\" >StockCode</th>\n",
       "      <th id=\"T_ffb8c_level0_col2\" class=\"col_heading level0 col2\" >Description</th>\n",
       "      <th id=\"T_ffb8c_level0_col3\" class=\"col_heading level0 col3\" >Quantity</th>\n",
       "      <th id=\"T_ffb8c_level0_col4\" class=\"col_heading level0 col4\" >InvoiceDate</th>\n",
       "      <th id=\"T_ffb8c_level0_col5\" class=\"col_heading level0 col5\" >Price</th>\n",
       "      <th id=\"T_ffb8c_level0_col6\" class=\"col_heading level0 col6\" >Customer ID</th>\n",
       "      <th id=\"T_ffb8c_level0_col7\" class=\"col_heading level0 col7\" >Country</th>\n",
       "    </tr>\n",
       "  </thead>\n",
       "  <tbody>\n",
       "    <tr>\n",
       "      <th id=\"T_ffb8c_level0_row0\" class=\"row_heading level0 row0\" >0</th>\n",
       "      <td id=\"T_ffb8c_row0_col0\" class=\"data row0 col0\" >489434</td>\n",
       "      <td id=\"T_ffb8c_row0_col1\" class=\"data row0 col1\" >85048</td>\n",
       "      <td id=\"T_ffb8c_row0_col2\" class=\"data row0 col2\" >15CM CHRISTMAS GLASS BALL 20 LIGHTS</td>\n",
       "      <td id=\"T_ffb8c_row0_col3\" class=\"data row0 col3\" >12</td>\n",
       "      <td id=\"T_ffb8c_row0_col4\" class=\"data row0 col4\" >2009-12-01 07:45:00</td>\n",
       "      <td id=\"T_ffb8c_row0_col5\" class=\"data row0 col5\" >6.950000</td>\n",
       "      <td id=\"T_ffb8c_row0_col6\" class=\"data row0 col6\" >13085.000000</td>\n",
       "      <td id=\"T_ffb8c_row0_col7\" class=\"data row0 col7\" >United Kingdom</td>\n",
       "    </tr>\n",
       "    <tr>\n",
       "      <th id=\"T_ffb8c_level0_row1\" class=\"row_heading level0 row1\" >1</th>\n",
       "      <td id=\"T_ffb8c_row1_col0\" class=\"data row1 col0\" >489434</td>\n",
       "      <td id=\"T_ffb8c_row1_col1\" class=\"data row1 col1\" >79323P</td>\n",
       "      <td id=\"T_ffb8c_row1_col2\" class=\"data row1 col2\" >PINK CHERRY LIGHTS</td>\n",
       "      <td id=\"T_ffb8c_row1_col3\" class=\"data row1 col3\" >12</td>\n",
       "      <td id=\"T_ffb8c_row1_col4\" class=\"data row1 col4\" >2009-12-01 07:45:00</td>\n",
       "      <td id=\"T_ffb8c_row1_col5\" class=\"data row1 col5\" >6.750000</td>\n",
       "      <td id=\"T_ffb8c_row1_col6\" class=\"data row1 col6\" >13085.000000</td>\n",
       "      <td id=\"T_ffb8c_row1_col7\" class=\"data row1 col7\" >United Kingdom</td>\n",
       "    </tr>\n",
       "    <tr>\n",
       "      <th id=\"T_ffb8c_level0_row2\" class=\"row_heading level0 row2\" >2</th>\n",
       "      <td id=\"T_ffb8c_row2_col0\" class=\"data row2 col0\" >489434</td>\n",
       "      <td id=\"T_ffb8c_row2_col1\" class=\"data row2 col1\" >79323W</td>\n",
       "      <td id=\"T_ffb8c_row2_col2\" class=\"data row2 col2\" > WHITE CHERRY LIGHTS</td>\n",
       "      <td id=\"T_ffb8c_row2_col3\" class=\"data row2 col3\" >12</td>\n",
       "      <td id=\"T_ffb8c_row2_col4\" class=\"data row2 col4\" >2009-12-01 07:45:00</td>\n",
       "      <td id=\"T_ffb8c_row2_col5\" class=\"data row2 col5\" >6.750000</td>\n",
       "      <td id=\"T_ffb8c_row2_col6\" class=\"data row2 col6\" >13085.000000</td>\n",
       "      <td id=\"T_ffb8c_row2_col7\" class=\"data row2 col7\" >United Kingdom</td>\n",
       "    </tr>\n",
       "  </tbody>\n",
       "</table>\n"
      ],
      "text/plain": [
       "<pandas.io.formats.style.Styler at 0x7fcf646ceb00>"
      ]
     },
     "execution_count": 2,
     "metadata": {},
     "output_type": "execute_result"
    }
   ],
   "source": [
    "#lETS READ THE DATASET...\n",
    "data = pd.read_csv(\"../input/online-retail-ii-uci/online_retail_II.csv\")\n",
    "print(\"-\"*50)\n",
    "print(\" Data imported successfully!!\")\n",
    "data.head(3).style.set_properties(**{\"background-color\": \"#cd5c5c\",\"color\": \"black\", \"border-color\": \"black\"})"
   ]
  },
  {
   "cell_type": "markdown",
   "id": "bc5d86f4",
   "metadata": {
    "papermill": {
     "duration": 0.011355,
     "end_time": "2023-07-24T12:25:47.737891",
     "exception": false,
     "start_time": "2023-07-24T12:25:47.726536",
     "status": "completed"
    },
    "tags": []
   },
   "source": [
    "<a id=\"3\"></a>\n",
    "<p style=\"background-color:#ff0000;font-family:Georgia;color:#ff0000;font-size:105%;text-align:center;border-radius:10px 10px;border-style: dotted;border-width:15px;border-color:#ff0000;\"></p>\n",
    "<h1 style=\"color:black;font-size:32px;font-family:Georgia;text-align:center;\">👨‍💻<strong>Exploring <strong style=\"color:#ff0000;font-size:30px;font-family:Georgia;\">Information <strong style=\"color:black;font-size:32px;font-family:Georgia;\">of <strong style=\"color:#ff0000;font-size:30px;font-family:Georgia;\">the <strong style=\"color:black;font-size:32px;font-family:Georgia;\">Dataset </strong></strong></strong></strong></strong>👨‍💻</h1>"
   ]
  },
  {
   "cell_type": "code",
   "execution_count": 3,
   "id": "d962c97f",
   "metadata": {
    "execution": {
     "iopub.execute_input": "2023-07-24T12:25:47.762604Z",
     "iopub.status.busy": "2023-07-24T12:25:47.761946Z",
     "iopub.status.idle": "2023-07-24T12:25:54.460534Z",
     "shell.execute_reply": "2023-07-24T12:25:54.458783Z"
    },
    "papermill": {
     "duration": 6.71327,
     "end_time": "2023-07-24T12:25:54.462822",
     "exception": false,
     "start_time": "2023-07-24T12:25:47.749552",
     "status": "completed"
    },
    "tags": []
   },
   "outputs": [
    {
     "name": "stdout",
     "output_type": "stream",
     "text": [
      "------------------------------------------------------ SHAPE OF DATASET -----------------------------------------------------\n",
      "Rows:1067371\n",
      "Columns:8\n",
      "------------------------------------------------------------ HEAD -----------------------------------------------------------\n",
      "  Invoice StockCode                          Description  Quantity  \\\n",
      "0  489434     85048  15CM CHRISTMAS GLASS BALL 20 LIGHTS        12   \n",
      "1  489434    79323P                   PINK CHERRY LIGHTS        12   \n",
      "2  489434    79323W                  WHITE CHERRY LIGHTS        12   \n",
      "3  489434     22041         RECORD FRAME 7\" SINGLE SIZE         48   \n",
      "4  489434     21232       STRAWBERRY CERAMIC TRINKET BOX        24   \n",
      "\n",
      "           InvoiceDate  Price  Customer ID         Country  \n",
      "0  2009-12-01 07:45:00   6.95      13085.0  United Kingdom  \n",
      "1  2009-12-01 07:45:00   6.75      13085.0  United Kingdom  \n",
      "2  2009-12-01 07:45:00   6.75      13085.0  United Kingdom  \n",
      "3  2009-12-01 07:45:00   2.10      13085.0  United Kingdom  \n",
      "4  2009-12-01 07:45:00   1.25      13085.0  United Kingdom  \n",
      "----------------------------------------------------------DATA TYPES---------------------------------------------------------\n",
      "object     5\n",
      "float64    2\n",
      "int64      1\n",
      "dtype: int64\n",
      "------------------------------------------------------- MISSING VALUES ------------------------------------------------------\n",
      "Customer ID    243007\n",
      "Description      4382\n",
      "dtype: int64\n",
      "----------------------------------------------------- DUPLICATED VALUES -----------------------------------------------------\n",
      "34335\n",
      "----------------------------------------------------- STATISTICS OF DATA ----------------------------------------------------\n",
      "        Invoice StockCode                         Description      Quantity  \\\n",
      "count   1067371   1067371                             1062989  1.067371e+06   \n",
      "unique    53628      5305                                5698           NaN   \n",
      "top      537434    85123A  WHITE HANGING HEART T-LIGHT HOLDER           NaN   \n",
      "freq       1350      5829                                5918           NaN   \n",
      "mean        NaN       NaN                                 NaN  9.938898e+00   \n",
      "std         NaN       NaN                                 NaN  1.727058e+02   \n",
      "min         NaN       NaN                                 NaN -8.099500e+04   \n",
      "25%         NaN       NaN                                 NaN  1.000000e+00   \n",
      "50%         NaN       NaN                                 NaN  3.000000e+00   \n",
      "75%         NaN       NaN                                 NaN  1.000000e+01   \n",
      "max         NaN       NaN                                 NaN  8.099500e+04   \n",
      "\n",
      "                InvoiceDate         Price    Customer ID         Country  \n",
      "count               1067371  1.067371e+06  824364.000000         1067371  \n",
      "unique                47635           NaN            NaN              43  \n",
      "top     2010-12-06 16:57:00           NaN            NaN  United Kingdom  \n",
      "freq                   1350           NaN            NaN          981330  \n",
      "mean                    NaN  4.649388e+00   15324.638504             NaN  \n",
      "std                     NaN  1.235531e+02    1697.464450             NaN  \n",
      "min                     NaN -5.359436e+04   12346.000000             NaN  \n",
      "25%                     NaN  1.250000e+00   13975.000000             NaN  \n",
      "50%                     NaN  2.100000e+00   15255.000000             NaN  \n",
      "75%                     NaN  4.150000e+00   16797.000000             NaN  \n",
      "max                     NaN  3.897000e+04   18287.000000             NaN  \n",
      "----------------------------------------------------------DATA INFO----------------------------------------------------------\n",
      "<class 'pandas.core.frame.DataFrame'>\n",
      "RangeIndex: 1067371 entries, 0 to 1067370\n",
      "Data columns (total 8 columns):\n",
      " #   Column       Non-Null Count    Dtype  \n",
      "---  ------       --------------    -----  \n",
      " 0   Invoice      1067371 non-null  object \n",
      " 1   StockCode    1067371 non-null  object \n",
      " 2   Description  1062989 non-null  object \n",
      " 3   Quantity     1067371 non-null  int64  \n",
      " 4   InvoiceDate  1067371 non-null  object \n",
      " 5   Price        1067371 non-null  float64\n",
      " 6   Customer ID  824364 non-null   float64\n",
      " 7   Country      1067371 non-null  object \n",
      "dtypes: float64(2), int64(1), object(5)\n",
      "memory usage: 65.1+ MB\n",
      "None\n"
     ]
    }
   ],
   "source": [
    "pd.set_option('display.max_columns', None) \n",
    "def data_overview(df, head=5):\n",
    "    print(\" SHAPE OF DATASET \".center(125,'-'))\n",
    "    print('Rows:{}'.format(df.shape[0]))\n",
    "    print('Columns:{}'.format(df.shape[1]))\n",
    "    print(\" HEAD \".center(125,'-'))\n",
    "    print(df.head(head))\n",
    "    print(\"DATA TYPES\".center(125,'-'))\n",
    "    print(data.dtypes.value_counts())\n",
    "    print(\" MISSING VALUES \".center(125,'-'))\n",
    "    print(df.isnull().sum()[df.isnull().sum()>0].sort_values(ascending = False))\n",
    "    print(\" DUPLICATED VALUES \".center(125,'-'))\n",
    "    print(df.duplicated().sum())\n",
    "    print(\" STATISTICS OF DATA \".center(125,'-'))\n",
    "    print(df.describe(include=\"all\"))\n",
    "    print(\"DATA INFO\".center(125,'-'))\n",
    "    print(df.info())\n",
    "    \n",
    "    \n",
    "data_overview(data)"
   ]
  },
  {
   "cell_type": "markdown",
   "id": "0e57b74a",
   "metadata": {
    "papermill": {
     "duration": 0.011922,
     "end_time": "2023-07-24T12:25:54.487027",
     "exception": false,
     "start_time": "2023-07-24T12:25:54.475105",
     "status": "completed"
    },
    "tags": []
   },
   "source": [
    "<a id=\"4\"></a>\n",
    "<p style=\"background-color:#ff0000;font-family:Georgia;color:#ff0000;font-size:105%;text-align:center;border-radius:10px 10px;border-style: dotted;border-width:15px;border-color:#ff0000;\"></p>\n",
    "<style>\n",
    "    .header {\n",
    "        text-align: center;font-family: Georgia;font-size: 65%;color: purple;\n",
    "    }\n",
    "</style>\n",
    "\n",
    "<div class=\"header\">\n",
    "    <h1>Point to be noted</h1>\n",
    "</div>\n",
    "\n",
    "\n",
    "<div style=\"text-align: left;\">\n",
    "  <ul style=\"list-style-type: disc; font-family: Georgia; color: #000000; font-size: 110%;\">\n",
    "    <li>The Dataset has Rows: 1067371 and Columns:8</li>\n",
    "    <li>The Dataset has 3 types of columns: strings(5), integer(1), float(2)</li>\n",
    "    <li>The Dataset has Missing values in Customer ID (243007) and Description (4382)</li>\n",
    "    <li>Invoice starts with the 'c' needs to be cleaned as it is cancelled transaction</li>\n",
    "    <li>The Dataset has duplicates</li>\n",
    "    <li>Aslo check for negative value and outliers in Quantity and Price</li>\n",
    "  </ul>\n",
    "</div>\n"
   ]
  },
  {
   "cell_type": "markdown",
   "id": "7a0b4c2a",
   "metadata": {
    "papermill": {
     "duration": 0.011802,
     "end_time": "2023-07-24T12:25:54.511004",
     "exception": false,
     "start_time": "2023-07-24T12:25:54.499202",
     "status": "completed"
    },
    "tags": []
   },
   "source": [
    "<a id=\"4\"></a>\n",
    "<p style=\"background-color:#ff0000;font-family:Georgia;color:#ff0000;font-size:105%;text-align:center;border-radius:10px 10px;border-style: dotted;border-width:15px;border-color:#ff0000;\"></p>\n",
    "<h1 style=\"color:black;font-size:32px;font-family:Georgia;text-align:center;\">👨‍💻<strong>Data <strong style=\"color:#ff0000;font-size:30px;font-family:Georgia;\"><strong style=\"color:#ff0000;font-size:30px;font-family:Georgia;\">Wrangling</strong></strong></strong>👨‍💻</h1>"
   ]
  },
  {
   "cell_type": "markdown",
   "id": "d417013d",
   "metadata": {
    "papermill": {
     "duration": 0.012694,
     "end_time": "2023-07-24T12:25:54.535906",
     "exception": false,
     "start_time": "2023-07-24T12:25:54.523212",
     "status": "completed"
    },
    "tags": []
   },
   "source": [
    "<h1 style=\"color:black;font-size:16px;font-family:Georgia;text-align:left;\">1️⃣<strong>Dealing with Missing values<strong>"
   ]
  },
  {
   "cell_type": "code",
   "execution_count": 4,
   "id": "52f5b6d2",
   "metadata": {
    "execution": {
     "iopub.execute_input": "2023-07-24T12:25:54.562137Z",
     "iopub.status.busy": "2023-07-24T12:25:54.561317Z",
     "iopub.status.idle": "2023-07-24T12:25:54.654833Z",
     "shell.execute_reply": "2023-07-24T12:25:54.653641Z"
    },
    "papermill": {
     "duration": 0.108741,
     "end_time": "2023-07-24T12:25:54.657019",
     "exception": false,
     "start_time": "2023-07-24T12:25:54.548278",
     "status": "completed"
    },
    "tags": []
   },
   "outputs": [
    {
     "name": "stdout",
     "output_type": "stream",
     "text": [
      "Shape of data before removing NaN's CustomerID (1067371, 8)\n",
      "Shape of data after removing NaN's CustomerID (824364, 8)\n"
     ]
    }
   ],
   "source": [
    "#  Removing NaN's in Customer ID\n",
    "print(\"Shape of data before removing NaN's CustomerID\",data.shape)\n",
    "data.dropna(subset=\"Customer ID\",axis=0,inplace=True)\n",
    "print(\"Shape of data after removing NaN's CustomerID\",data.shape)"
   ]
  },
  {
   "cell_type": "code",
   "execution_count": 5,
   "id": "29140e39",
   "metadata": {
    "execution": {
     "iopub.execute_input": "2023-07-24T12:25:54.684424Z",
     "iopub.status.busy": "2023-07-24T12:25:54.684111Z",
     "iopub.status.idle": "2023-07-24T12:25:55.830192Z",
     "shell.execute_reply": "2023-07-24T12:25:55.829060Z"
    },
    "papermill": {
     "duration": 1.161984,
     "end_time": "2023-07-24T12:25:55.832333",
     "exception": false,
     "start_time": "2023-07-24T12:25:54.670349",
     "status": "completed"
    },
    "tags": []
   },
   "outputs": [
    {
     "name": "stdout",
     "output_type": "stream",
     "text": [
      "Missing values in each column after cleaning customerID :\n",
      " Invoice        0\n",
      "StockCode      0\n",
      "Description    0\n",
      "Quantity       0\n",
      "InvoiceDate    0\n",
      "Price          0\n",
      "Customer ID    0\n",
      "Country        0\n",
      "dtype: int64\n"
     ]
    }
   ],
   "source": [
    "print(\"Missing values in each column after cleaning customerID :\\n\",data.isnull().sum())"
   ]
  },
  {
   "cell_type": "markdown",
   "id": "08b55b0d",
   "metadata": {
    "papermill": {
     "duration": 0.012051,
     "end_time": "2023-07-24T12:25:55.857084",
     "exception": false,
     "start_time": "2023-07-24T12:25:55.845033",
     "status": "completed"
    },
    "tags": []
   },
   "source": [
    " <ul style=\"list-style-type: disc; font-family: Georgia; color: #006400; font-size: 110%;\">\n",
    "    <li>Data looks fine now. (luckily NaNs from Description was also alligned with missing customer ID)</li>"
   ]
  },
  {
   "cell_type": "markdown",
   "id": "2353e39f",
   "metadata": {
    "papermill": {
     "duration": 0.011752,
     "end_time": "2023-07-24T12:25:55.881528",
     "exception": false,
     "start_time": "2023-07-24T12:25:55.869776",
     "status": "completed"
    },
    "tags": []
   },
   "source": [
    "<h1 style=\"color:black;font-size:16px;font-family:Georgia;text-align:left;\">2️⃣<strong>Removing cancelled products from invoice<strong>"
   ]
  },
  {
   "cell_type": "code",
   "execution_count": 6,
   "id": "3a4a5857",
   "metadata": {
    "execution": {
     "iopub.execute_input": "2023-07-24T12:25:55.907663Z",
     "iopub.status.busy": "2023-07-24T12:25:55.907371Z",
     "iopub.status.idle": "2023-07-24T12:25:56.424157Z",
     "shell.execute_reply": "2023-07-24T12:25:56.422680Z"
    },
    "papermill": {
     "duration": 0.532221,
     "end_time": "2023-07-24T12:25:56.426303",
     "exception": false,
     "start_time": "2023-07-24T12:25:55.894082",
     "status": "completed"
    },
    "tags": []
   },
   "outputs": [
    {
     "name": "stdout",
     "output_type": "stream",
     "text": [
      "Dataset is free from cancelled products information\n"
     ]
    }
   ],
   "source": [
    "#using one's compliment operator (~) we can unselect all the Invoice column which doesnt contain \"C\".\n",
    "data = data[~data.Invoice.str.contains('C',na=False)]\n",
    "print(\"Dataset is free from cancelled products information\")"
   ]
  },
  {
   "cell_type": "markdown",
   "id": "12f68158",
   "metadata": {
    "papermill": {
     "duration": 0.012314,
     "end_time": "2023-07-24T12:25:56.450875",
     "exception": false,
     "start_time": "2023-07-24T12:25:56.438561",
     "status": "completed"
    },
    "tags": []
   },
   "source": [
    "<h1 style=\"color:black;font-size:16px;font-family:Georgia;text-align:left;\">3️⃣<strong>Removing Duplicates<strong>"
   ]
  },
  {
   "cell_type": "code",
   "execution_count": 7,
   "id": "1eabd366",
   "metadata": {
    "execution": {
     "iopub.execute_input": "2023-07-24T12:25:56.476935Z",
     "iopub.status.busy": "2023-07-24T12:25:56.476041Z",
     "iopub.status.idle": "2023-07-24T12:25:58.081495Z",
     "shell.execute_reply": "2023-07-24T12:25:58.080287Z"
    },
    "papermill": {
     "duration": 1.621614,
     "end_time": "2023-07-24T12:25:58.084601",
     "exception": false,
     "start_time": "2023-07-24T12:25:56.462987",
     "status": "completed"
    },
    "tags": []
   },
   "outputs": [
    {
     "name": "stdout",
     "output_type": "stream",
     "text": [
      "Number of duplicates before cleaning: 26125\n",
      "Number of duplicates after cleaning: 0\n"
     ]
    }
   ],
   "source": [
    "# Removing duplicates (Values in all columns are identical)\n",
    "print(\"Number of duplicates before cleaning:\",data.duplicated().sum())\n",
    "data = data.drop_duplicates(keep=\"first\")\n",
    "print(\"Number of duplicates after cleaning:\",data.duplicated().sum())"
   ]
  },
  {
   "cell_type": "markdown",
   "id": "05cccb82",
   "metadata": {
    "papermill": {
     "duration": 0.012641,
     "end_time": "2023-07-24T12:25:58.110831",
     "exception": false,
     "start_time": "2023-07-24T12:25:58.098190",
     "status": "completed"
    },
    "tags": []
   },
   "source": [
    "<h1 style=\"color:black;font-size:16px;font-family:Georgia;text-align:left;\">4️⃣<strong>Checking for negative value<strong>"
   ]
  },
  {
   "cell_type": "code",
   "execution_count": 8,
   "id": "5ec45c3d",
   "metadata": {
    "execution": {
     "iopub.execute_input": "2023-07-24T12:25:58.136731Z",
     "iopub.status.busy": "2023-07-24T12:25:58.136135Z",
     "iopub.status.idle": "2023-07-24T12:25:58.146234Z",
     "shell.execute_reply": "2023-07-24T12:25:58.144913Z"
    },
    "papermill": {
     "duration": 0.025223,
     "end_time": "2023-07-24T12:25:58.148282",
     "exception": false,
     "start_time": "2023-07-24T12:25:58.123059",
     "status": "completed"
    },
    "tags": []
   },
   "outputs": [
    {
     "name": "stdout",
     "output_type": "stream",
     "text": [
      "Negative value in Quantity is: 0\n",
      "Negative value in Price is: 0\n"
     ]
    }
   ],
   "source": [
    "print(\"Negative value in Quantity is:\",(data.Quantity<0).sum())\n",
    "print(\"Negative value in Price is:\",(data.Price<0).sum())"
   ]
  },
  {
   "cell_type": "markdown",
   "id": "ffeb6d04",
   "metadata": {
    "papermill": {
     "duration": 0.012111,
     "end_time": "2023-07-24T12:25:58.173080",
     "exception": false,
     "start_time": "2023-07-24T12:25:58.160969",
     "status": "completed"
    },
    "tags": []
   },
   "source": [
    "<h1 style=\"color:black;font-size:16px;font-family:Georgia;text-align:left;\">5️⃣<strong>Cleaning Outliers<strong>"
   ]
  },
  {
   "cell_type": "code",
   "execution_count": 9,
   "id": "35cba04a",
   "metadata": {
    "execution": {
     "iopub.execute_input": "2023-07-24T12:25:58.200554Z",
     "iopub.status.busy": "2023-07-24T12:25:58.198789Z",
     "iopub.status.idle": "2023-07-24T12:25:58.205852Z",
     "shell.execute_reply": "2023-07-24T12:25:58.204987Z"
    },
    "papermill": {
     "duration": 0.0223,
     "end_time": "2023-07-24T12:25:58.207743",
     "exception": false,
     "start_time": "2023-07-24T12:25:58.185443",
     "status": "completed"
    },
    "tags": []
   },
   "outputs": [],
   "source": [
    "#defining funcation to remove outliers w.r.t its thresholds\n",
    "def outlier_thresholds(dataframe, variable):\n",
    "    quartile1 = dataframe[variable].quantile(0.01)\n",
    "    quartile3 = dataframe[variable].quantile(0.99)\n",
    "    interquantile_range = quartile3 - quartile1\n",
    "    up_limit = quartile3 + 1.5 * interquantile_range\n",
    "    low_limit = quartile1 - 1.5 * interquantile_range\n",
    "    return up_limit, low_limit\n",
    "\n",
    "def replace_with_threshold(dataframe, variable):\n",
    "    up_limit, low_limit = outlier_thresholds(dataframe, variable)\n",
    "    # dataframe.loc[(dataframe[variable] < low_limit), variable] = low_limit\n",
    "    dataframe.loc[(dataframe[variable] > up_limit), variable] = up_limit"
   ]
  },
  {
   "cell_type": "code",
   "execution_count": 10,
   "id": "a948b377",
   "metadata": {
    "execution": {
     "iopub.execute_input": "2023-07-24T12:25:58.234014Z",
     "iopub.status.busy": "2023-07-24T12:25:58.233193Z",
     "iopub.status.idle": "2023-07-24T12:25:58.902987Z",
     "shell.execute_reply": "2023-07-24T12:25:58.902023Z"
    },
    "papermill": {
     "duration": 0.685042,
     "end_time": "2023-07-24T12:25:58.905151",
     "exception": false,
     "start_time": "2023-07-24T12:25:58.220109",
     "status": "completed"
    },
    "tags": []
   },
   "outputs": [
    {
     "data": {
      "image/png": "[encoded data removed]",
      "text/plain": [
       "<Figure size 2000x500 with 2 Axes>"
      ]
     },
     "metadata": {},
     "output_type": "display_data"
    }
   ],
   "source": [
    "# Observing them before removing outliers.\n",
    "f, ax = plt.subplots(2,1, figsize = (20,5))\n",
    "col_list = [\"Quantity\",\"Price\"]\n",
    "for i in range(0,2):\n",
    "    ax[i].boxplot(data[col_list[i]],flierprops = dict(marker = \"s\", markerfacecolor = \"red\"), vert = 0)\n",
    "plt.show()"
   ]
  },
  {
   "cell_type": "code",
   "execution_count": 11,
   "id": "cff097b2",
   "metadata": {
    "execution": {
     "iopub.execute_input": "2023-07-24T12:25:58.933640Z",
     "iopub.status.busy": "2023-07-24T12:25:58.933337Z",
     "iopub.status.idle": "2023-07-24T12:25:58.977651Z",
     "shell.execute_reply": "2023-07-24T12:25:58.976715Z"
    },
    "papermill": {
     "duration": 0.060749,
     "end_time": "2023-07-24T12:25:58.980089",
     "exception": false,
     "start_time": "2023-07-24T12:25:58.919340",
     "status": "completed"
    },
    "tags": []
   },
   "outputs": [],
   "source": [
    "# Applying the functions for remove the outlier.\n",
    "replace_with_threshold(data, \"Quantity\")\n",
    "replace_with_threshold(data, \"Price\")"
   ]
  },
  {
   "cell_type": "code",
   "execution_count": 12,
   "id": "8abb0229",
   "metadata": {
    "execution": {
     "iopub.execute_input": "2023-07-24T12:25:59.007553Z",
     "iopub.status.busy": "2023-07-24T12:25:59.007266Z",
     "iopub.status.idle": "2023-07-24T12:25:59.597361Z",
     "shell.execute_reply": "2023-07-24T12:25:59.596398Z"
    },
    "papermill": {
     "duration": 0.60721,
     "end_time": "2023-07-24T12:25:59.600687",
     "exception": false,
     "start_time": "2023-07-24T12:25:58.993477",
     "status": "completed"
    },
    "tags": []
   },
   "outputs": [
    {
     "data": {
      "image/png": "[encoded data removed]",
      "text/plain": [
       "<Figure size 2000x500 with 2 Axes>"
      ]
     },
     "metadata": {},
     "output_type": "display_data"
    }
   ],
   "source": [
    "# Observing them after removing outliers.\n",
    "f, ax = plt.subplots(2,1, figsize = (20,5))\n",
    "for i in range(0,2):\n",
    "    ax[i].boxplot(data[col_list[i]],flierprops = dict(marker = \"s\", markerfacecolor = \"red\"), vert = 0)\n",
    "plt.show()"
   ]
  },
  {
   "cell_type": "markdown",
   "id": "b296d11c",
   "metadata": {
    "papermill": {
     "duration": 0.013993,
     "end_time": "2023-07-24T12:25:59.628628",
     "exception": false,
     "start_time": "2023-07-24T12:25:59.614635",
     "status": "completed"
    },
    "tags": []
   },
   "source": [
    "<h1 style=\"color:#adff2f;font-size:25px;font-family:Georgia;text-align:center;\"><strong>😀Data is Clean Now😀 <strong style=\"color:#adff2f;font-size:30px;font-family:Georgia;\"></strong></strong></h1>"
   ]
  },
  {
   "cell_type": "markdown",
   "id": "7f61efc1",
   "metadata": {
    "papermill": {
     "duration": 0.01363,
     "end_time": "2023-07-24T12:25:59.655455",
     "exception": false,
     "start_time": "2023-07-24T12:25:59.641825",
     "status": "completed"
    },
    "tags": []
   },
   "source": [
    "<a id=\"5\"></a>\n",
    "<p style=\"background-color:#ff0000;font-family:Georgia;color:#ff0000;font-size:105%;text-align:center;border-radius:10px 10px;border-style: dotted;border-width:15px;border-color:#ff0000;\"></p>\n",
    "<h1 style=\"color:black;font-size:32px;font-family:Georgia;text-align:center;\">👨‍💻<strong>EDA <strong style=\"color:#ff0000;font-size:30px;font-family:Georgia;\"><strong style=\"color:#ff0000;font-size:30px;font-family:Georgia;\">: Feature Engineering</strong></strong></strong>👨‍💻</h1>"
   ]
  },
  {
   "cell_type": "code",
   "execution_count": 13,
   "id": "51145bfc",
   "metadata": {
    "execution": {
     "iopub.execute_input": "2023-07-24T12:25:59.685640Z",
     "iopub.status.busy": "2023-07-24T12:25:59.685071Z",
     "iopub.status.idle": "2023-07-24T12:25:59.694455Z",
     "shell.execute_reply": "2023-07-24T12:25:59.693391Z"
    },
    "papermill": {
     "duration": 0.027277,
     "end_time": "2023-07-24T12:25:59.696775",
     "exception": false,
     "start_time": "2023-07-24T12:25:59.669498",
     "status": "completed"
    },
    "tags": []
   },
   "outputs": [],
   "source": [
    "#Creating new feature Revenue\n",
    "data[\"Revenue\"] = data[\"Quantity\"] * data[\"Price\"]"
   ]
  },
  {
   "cell_type": "code",
   "execution_count": 14,
   "id": "9425f743",
   "metadata": {
    "execution": {
     "iopub.execute_input": "2023-07-24T12:25:59.725686Z",
     "iopub.status.busy": "2023-07-24T12:25:59.725411Z",
     "iopub.status.idle": "2023-07-24T12:25:59.914323Z",
     "shell.execute_reply": "2023-07-24T12:25:59.913269Z"
    },
    "papermill": {
     "duration": 0.205297,
     "end_time": "2023-07-24T12:25:59.916726",
     "exception": false,
     "start_time": "2023-07-24T12:25:59.711429",
     "status": "completed"
    },
    "tags": []
   },
   "outputs": [],
   "source": [
    "#Creating Features for RFM Model\n",
    "#Changing data type to datetime\n",
    "data['InvoiceDate'] = pd.to_datetime(data['InvoiceDate'])"
   ]
  },
  {
   "cell_type": "code",
   "execution_count": 15,
   "id": "0889eb7c",
   "metadata": {
    "execution": {
     "iopub.execute_input": "2023-07-24T12:25:59.946130Z",
     "iopub.status.busy": "2023-07-24T12:25:59.945824Z",
     "iopub.status.idle": "2023-07-24T12:25:59.955363Z",
     "shell.execute_reply": "2023-07-24T12:25:59.954183Z"
    },
    "papermill": {
     "duration": 0.026684,
     "end_time": "2023-07-24T12:25:59.957988",
     "exception": false,
     "start_time": "2023-07-24T12:25:59.931304",
     "status": "completed"
    },
    "tags": []
   },
   "outputs": [
    {
     "name": "stdout",
     "output_type": "stream",
     "text": [
      "Max date : 2011-12-09 12:50:00\n",
      "Min date : 2009-12-01 07:45:00\n"
     ]
    }
   ],
   "source": [
    "print(\"Max date :\",data[\"InvoiceDate\"].max())\n",
    "print(\"Min date :\",data[\"InvoiceDate\"].min())"
   ]
  },
  {
   "cell_type": "code",
   "execution_count": 16,
   "id": "73ec61e1",
   "metadata": {
    "execution": {
     "iopub.execute_input": "2023-07-24T12:25:59.986758Z",
     "iopub.status.busy": "2023-07-24T12:25:59.986477Z",
     "iopub.status.idle": "2023-07-24T12:26:01.888161Z",
     "shell.execute_reply": "2023-07-24T12:26:01.887153Z"
    },
    "papermill": {
     "duration": 1.918444,
     "end_time": "2023-07-24T12:26:01.890726",
     "exception": false,
     "start_time": "2023-07-24T12:25:59.972282",
     "status": "completed"
    },
    "tags": []
   },
   "outputs": [
    {
     "data": {
      "text/html": [
       "<style type=\"text/css\">\n",
       "#T_87ac8_row0_col0, #T_87ac8_row0_col1, #T_87ac8_row0_col2, #T_87ac8_row0_col3, #T_87ac8_row1_col0, #T_87ac8_row1_col1, #T_87ac8_row1_col2, #T_87ac8_row1_col3, #T_87ac8_row2_col0, #T_87ac8_row2_col1, #T_87ac8_row2_col2, #T_87ac8_row2_col3, #T_87ac8_row3_col0, #T_87ac8_row3_col1, #T_87ac8_row3_col2, #T_87ac8_row3_col3, #T_87ac8_row4_col0, #T_87ac8_row4_col1, #T_87ac8_row4_col2, #T_87ac8_row4_col3 {\n",
       "  background-color: #cd5c5c;\n",
       "  color: black;\n",
       "  border-color: black;\n",
       "}\n",
       "</style>\n",
       "<table id=\"T_87ac8\">\n",
       "  <thead>\n",
       "    <tr>\n",
       "      <th class=\"blank level0\" >&nbsp;</th>\n",
       "      <th id=\"T_87ac8_level0_col0\" class=\"col_heading level0 col0\" >Customer ID</th>\n",
       "      <th id=\"T_87ac8_level0_col1\" class=\"col_heading level0 col1\" >Recency</th>\n",
       "      <th id=\"T_87ac8_level0_col2\" class=\"col_heading level0 col2\" >Frequency</th>\n",
       "      <th id=\"T_87ac8_level0_col3\" class=\"col_heading level0 col3\" >Monetary</th>\n",
       "    </tr>\n",
       "  </thead>\n",
       "  <tbody>\n",
       "    <tr>\n",
       "      <th id=\"T_87ac8_level0_row0\" class=\"row_heading level0 row0\" >0</th>\n",
       "      <td id=\"T_87ac8_row0_col0\" class=\"data row0 col0\" >12346.000000</td>\n",
       "      <td id=\"T_87ac8_row0_col1\" class=\"data row0 col1\" >325</td>\n",
       "      <td id=\"T_87ac8_row0_col2\" class=\"data row0 col2\" >12</td>\n",
       "      <td id=\"T_87ac8_row0_col3\" class=\"data row0 col3\" >745.700000</td>\n",
       "    </tr>\n",
       "    <tr>\n",
       "      <th id=\"T_87ac8_level0_row1\" class=\"row_heading level0 row1\" >1</th>\n",
       "      <td id=\"T_87ac8_row1_col0\" class=\"data row1 col0\" >12347.000000</td>\n",
       "      <td id=\"T_87ac8_row1_col1\" class=\"data row1 col1\" >2</td>\n",
       "      <td id=\"T_87ac8_row1_col2\" class=\"data row1 col2\" >8</td>\n",
       "      <td id=\"T_87ac8_row1_col3\" class=\"data row1 col3\" >4921.530000</td>\n",
       "    </tr>\n",
       "    <tr>\n",
       "      <th id=\"T_87ac8_level0_row2\" class=\"row_heading level0 row2\" >2</th>\n",
       "      <td id=\"T_87ac8_row2_col0\" class=\"data row2 col0\" >12348.000000</td>\n",
       "      <td id=\"T_87ac8_row2_col1\" class=\"data row2 col1\" >75</td>\n",
       "      <td id=\"T_87ac8_row2_col2\" class=\"data row2 col2\" >5</td>\n",
       "      <td id=\"T_87ac8_row2_col3\" class=\"data row2 col3\" >1991.860000</td>\n",
       "    </tr>\n",
       "    <tr>\n",
       "      <th id=\"T_87ac8_level0_row3\" class=\"row_heading level0 row3\" >3</th>\n",
       "      <td id=\"T_87ac8_row3_col0\" class=\"data row3 col0\" >12349.000000</td>\n",
       "      <td id=\"T_87ac8_row3_col1\" class=\"data row3 col1\" >18</td>\n",
       "      <td id=\"T_87ac8_row3_col2\" class=\"data row3 col2\" >4</td>\n",
       "      <td id=\"T_87ac8_row3_col3\" class=\"data row3 col3\" >3786.500000</td>\n",
       "    </tr>\n",
       "    <tr>\n",
       "      <th id=\"T_87ac8_level0_row4\" class=\"row_heading level0 row4\" >4</th>\n",
       "      <td id=\"T_87ac8_row4_col0\" class=\"data row4 col0\" >12350.000000</td>\n",
       "      <td id=\"T_87ac8_row4_col1\" class=\"data row4 col1\" >310</td>\n",
       "      <td id=\"T_87ac8_row4_col2\" class=\"data row4 col2\" >1</td>\n",
       "      <td id=\"T_87ac8_row4_col3\" class=\"data row4 col3\" >331.340000</td>\n",
       "    </tr>\n",
       "  </tbody>\n",
       "</table>\n"
      ],
      "text/plain": [
       "<pandas.io.formats.style.Styler at 0x7fcf56911870>"
      ]
     },
     "execution_count": 16,
     "metadata": {},
     "output_type": "execute_result"
    }
   ],
   "source": [
    "#RFM Featuring\n",
    "\n",
    "#Set Latest date 2011-12-10 as last invoice date was 2011-12-09.\n",
    "Latest_Date = dt.datetime(2011,12,10)\n",
    "\n",
    "#Creating RFM features with subset of customerID\n",
    "RFM = data.groupby('Customer ID').agg({'InvoiceDate': lambda x: (Latest_Date - x.max()).days, \n",
    "                                                 'Invoice': lambda x: x.nunique(), \n",
    "                                                 \"Revenue\": lambda x: x.sum()})\n",
    "                                \n",
    "RFM['InvoiceDate'] = RFM['InvoiceDate'].astype(int)\n",
    "\n",
    "#Renaming column names to Recency, Frequency and Monetary\n",
    "RFM.rename(columns={'InvoiceDate': 'Recency', \n",
    "                         'Invoice': 'Frequency', \n",
    "                         'Revenue': 'Monetary'}, inplace=True)\n",
    "\n",
    "RFM.reset_index().head().style.set_properties(**{\"background-color\": \"#cd5c5c\",\"color\": \"black\", \"border-color\": \"black\"})"
   ]
  },
  {
   "cell_type": "markdown",
   "id": "6d9aa146",
   "metadata": {
    "papermill": {
     "duration": 0.013336,
     "end_time": "2023-07-24T12:26:01.917971",
     "exception": false,
     "start_time": "2023-07-24T12:26:01.904635",
     "status": "completed"
    },
    "tags": []
   },
   "source": [
    "<a id=\"6\"></a>\n",
    "<p style=\"background-color:#ff0000;font-family:Georgia;color:#ff0000;font-size:105%;text-align:center;border-radius:10px 10px;border-style: dotted;border-width:15px;border-color:#ff0000;\"></p>\n",
    "<h1 style=\"color:black;font-size:32px;font-family:Georgia;text-align:center;\">👨‍💻<strong>Introducing New Feature : <strong style=\"color:#ff0000;font-size:30px;font-family:Georgia;\"><strong style=\"color:#ff0000;font-size:30px;font-family:Georgia;\">Interpurchase-Time</strong></strong></strong>👨‍💻</h1>\n",
    "\n",
    "\n",
    "\n",
    "<p style= \"font-family:Georgia;color:#000000;font-size:110%;text-align:center;\">The Fourth varibale of RFM, InterPurchase Time, is a measure of average time gap between total shopping trips by a customer. The Interpurchase Time is calcluted as fallows : </p>\n",
    "\n",
    "<p style= \"font-family:Georgia;color:#000000;font-size:110%;text-align:center;\">T = L/(F-1) = (Tn - T1)/(F-1) </p>\n",
    "\n",
    "<div style=\"text-align: left;\">\n",
    "  <ul style=\"list-style-type: disc; font-family: Georgia; color: #000000; font-size: 110%;\">\n",
    "    <li>T --> Interpurchase Time</li>\n",
    "    <li>L --> Shopping Cycle</li>\n",
    "    <li>F --> Frequency</li>\n",
    "    <li>T1 --> First purchase</li>\n",
    "    <li>Tn --> Last purchase</li>\n",
    "    \n",
    "      \n",
    "  </ul>\n",
    "</div>\n",
    "\n",
    "Note: We consider only those customers who made purchase more than once."
   ]
  },
  {
   "cell_type": "code",
   "execution_count": 17,
   "id": "f06d919a",
   "metadata": {
    "execution": {
     "iopub.execute_input": "2023-07-24T12:26:01.946818Z",
     "iopub.status.busy": "2023-07-24T12:26:01.945869Z",
     "iopub.status.idle": "2023-07-24T12:26:01.958288Z",
     "shell.execute_reply": "2023-07-24T12:26:01.957305Z"
    },
    "papermill": {
     "duration": 0.02918,
     "end_time": "2023-07-24T12:26:01.960648",
     "exception": false,
     "start_time": "2023-07-24T12:26:01.931468",
     "status": "completed"
    },
    "tags": []
   },
   "outputs": [
    {
     "data": {
      "text/html": [
       "<style type=\"text/css\">\n",
       "#T_ad017_row0_col0, #T_ad017_row0_col1, #T_ad017_row0_col2, #T_ad017_row1_col0, #T_ad017_row1_col1, #T_ad017_row1_col2, #T_ad017_row2_col0, #T_ad017_row2_col1, #T_ad017_row2_col2, #T_ad017_row3_col0, #T_ad017_row3_col1, #T_ad017_row3_col2, #T_ad017_row4_col0, #T_ad017_row4_col1, #T_ad017_row4_col2 {\n",
       "  background-color: #cd5c5c;\n",
       "  color: black;\n",
       "  border-color: black;\n",
       "}\n",
       "</style>\n",
       "<table id=\"T_ad017\">\n",
       "  <thead>\n",
       "    <tr>\n",
       "      <th class=\"blank level0\" >&nbsp;</th>\n",
       "      <th id=\"T_ad017_level0_col0\" class=\"col_heading level0 col0\" >Recency</th>\n",
       "      <th id=\"T_ad017_level0_col1\" class=\"col_heading level0 col1\" >Frequency</th>\n",
       "      <th id=\"T_ad017_level0_col2\" class=\"col_heading level0 col2\" >Monetary</th>\n",
       "    </tr>\n",
       "    <tr>\n",
       "      <th class=\"index_name level0\" >Customer ID</th>\n",
       "      <th class=\"blank col0\" >&nbsp;</th>\n",
       "      <th class=\"blank col1\" >&nbsp;</th>\n",
       "      <th class=\"blank col2\" >&nbsp;</th>\n",
       "    </tr>\n",
       "  </thead>\n",
       "  <tbody>\n",
       "    <tr>\n",
       "      <th id=\"T_ad017_level0_row0\" class=\"row_heading level0 row0\" >12346.000000</th>\n",
       "      <td id=\"T_ad017_row0_col0\" class=\"data row0 col0\" >325</td>\n",
       "      <td id=\"T_ad017_row0_col1\" class=\"data row0 col1\" >12</td>\n",
       "      <td id=\"T_ad017_row0_col2\" class=\"data row0 col2\" >745.700000</td>\n",
       "    </tr>\n",
       "    <tr>\n",
       "      <th id=\"T_ad017_level0_row1\" class=\"row_heading level0 row1\" >12347.000000</th>\n",
       "      <td id=\"T_ad017_row1_col0\" class=\"data row1 col0\" >2</td>\n",
       "      <td id=\"T_ad017_row1_col1\" class=\"data row1 col1\" >8</td>\n",
       "      <td id=\"T_ad017_row1_col2\" class=\"data row1 col2\" >4921.530000</td>\n",
       "    </tr>\n",
       "    <tr>\n",
       "      <th id=\"T_ad017_level0_row2\" class=\"row_heading level0 row2\" >12348.000000</th>\n",
       "      <td id=\"T_ad017_row2_col0\" class=\"data row2 col0\" >75</td>\n",
       "      <td id=\"T_ad017_row2_col1\" class=\"data row2 col1\" >5</td>\n",
       "      <td id=\"T_ad017_row2_col2\" class=\"data row2 col2\" >1991.860000</td>\n",
       "    </tr>\n",
       "    <tr>\n",
       "      <th id=\"T_ad017_level0_row3\" class=\"row_heading level0 row3\" >12349.000000</th>\n",
       "      <td id=\"T_ad017_row3_col0\" class=\"data row3 col0\" >18</td>\n",
       "      <td id=\"T_ad017_row3_col1\" class=\"data row3 col1\" >4</td>\n",
       "      <td id=\"T_ad017_row3_col2\" class=\"data row3 col2\" >3786.500000</td>\n",
       "    </tr>\n",
       "    <tr>\n",
       "      <th id=\"T_ad017_level0_row4\" class=\"row_heading level0 row4\" >12352.000000</th>\n",
       "      <td id=\"T_ad017_row4_col0\" class=\"data row4 col0\" >36</td>\n",
       "      <td id=\"T_ad017_row4_col1\" class=\"data row4 col1\" >10</td>\n",
       "      <td id=\"T_ad017_row4_col2\" class=\"data row4 col2\" >2098.940000</td>\n",
       "    </tr>\n",
       "  </tbody>\n",
       "</table>\n"
      ],
      "text/plain": [
       "<pandas.io.formats.style.Styler at 0x7fcf5699ff70>"
      ]
     },
     "execution_count": 17,
     "metadata": {},
     "output_type": "execute_result"
    }
   ],
   "source": [
    "RFM = RFM[(RFM[\"Frequency\"]>1)]\n",
    "RFM.head().style.set_properties(**{\"background-color\": \"#cd5c5c\",\"color\": \"black\", \"border-color\": \"black\"})"
   ]
  },
  {
   "cell_type": "code",
   "execution_count": 18,
   "id": "c73c7b0e",
   "metadata": {
    "execution": {
     "iopub.execute_input": "2023-07-24T12:26:01.990628Z",
     "iopub.status.busy": "2023-07-24T12:26:01.989729Z",
     "iopub.status.idle": "2023-07-24T12:26:03.762415Z",
     "shell.execute_reply": "2023-07-24T12:26:03.761384Z"
    },
    "papermill": {
     "duration": 1.789963,
     "end_time": "2023-07-24T12:26:03.765044",
     "exception": false,
     "start_time": "2023-07-24T12:26:01.975081",
     "status": "completed"
    },
    "tags": []
   },
   "outputs": [],
   "source": [
    "Shopping_Cycle = data.groupby('Customer ID').agg({'InvoiceDate': lambda x: ((x.max() - x.min()).days)})"
   ]
  },
  {
   "cell_type": "code",
   "execution_count": 19,
   "id": "b69357f5",
   "metadata": {
    "execution": {
     "iopub.execute_input": "2023-07-24T12:26:03.796788Z",
     "iopub.status.busy": "2023-07-24T12:26:03.796464Z",
     "iopub.status.idle": "2023-07-24T12:26:03.810881Z",
     "shell.execute_reply": "2023-07-24T12:26:03.809621Z"
    },
    "papermill": {
     "duration": 0.032351,
     "end_time": "2023-07-24T12:26:03.813542",
     "exception": false,
     "start_time": "2023-07-24T12:26:03.781191",
     "status": "completed"
    },
    "tags": []
   },
   "outputs": [
    {
     "data": {
      "text/html": [
       "<style type=\"text/css\">\n",
       "#T_d3bd2_row0_col0, #T_d3bd2_row0_col1, #T_d3bd2_row0_col2, #T_d3bd2_row0_col3, #T_d3bd2_row1_col0, #T_d3bd2_row1_col1, #T_d3bd2_row1_col2, #T_d3bd2_row1_col3, #T_d3bd2_row2_col0, #T_d3bd2_row2_col1, #T_d3bd2_row2_col2, #T_d3bd2_row2_col3, #T_d3bd2_row3_col0, #T_d3bd2_row3_col1, #T_d3bd2_row3_col2, #T_d3bd2_row3_col3, #T_d3bd2_row4_col0, #T_d3bd2_row4_col1, #T_d3bd2_row4_col2, #T_d3bd2_row4_col3 {\n",
       "  background-color: #cd5c5c;\n",
       "  color: black;\n",
       "  border-color: black;\n",
       "}\n",
       "</style>\n",
       "<table id=\"T_d3bd2\">\n",
       "  <thead>\n",
       "    <tr>\n",
       "      <th class=\"blank level0\" >&nbsp;</th>\n",
       "      <th id=\"T_d3bd2_level0_col0\" class=\"col_heading level0 col0\" >Recency</th>\n",
       "      <th id=\"T_d3bd2_level0_col1\" class=\"col_heading level0 col1\" >Frequency</th>\n",
       "      <th id=\"T_d3bd2_level0_col2\" class=\"col_heading level0 col2\" >Monetary</th>\n",
       "      <th id=\"T_d3bd2_level0_col3\" class=\"col_heading level0 col3\" >Shopping_Cycle</th>\n",
       "    </tr>\n",
       "    <tr>\n",
       "      <th class=\"index_name level0\" >Customer ID</th>\n",
       "      <th class=\"blank col0\" >&nbsp;</th>\n",
       "      <th class=\"blank col1\" >&nbsp;</th>\n",
       "      <th class=\"blank col2\" >&nbsp;</th>\n",
       "      <th class=\"blank col3\" >&nbsp;</th>\n",
       "    </tr>\n",
       "  </thead>\n",
       "  <tbody>\n",
       "    <tr>\n",
       "      <th id=\"T_d3bd2_level0_row0\" class=\"row_heading level0 row0\" >12346.000000</th>\n",
       "      <td id=\"T_d3bd2_row0_col0\" class=\"data row0 col0\" >325</td>\n",
       "      <td id=\"T_d3bd2_row0_col1\" class=\"data row0 col1\" >12</td>\n",
       "      <td id=\"T_d3bd2_row0_col2\" class=\"data row0 col2\" >745.700000</td>\n",
       "      <td id=\"T_d3bd2_row0_col3\" class=\"data row0 col3\" >400</td>\n",
       "    </tr>\n",
       "    <tr>\n",
       "      <th id=\"T_d3bd2_level0_row1\" class=\"row_heading level0 row1\" >12347.000000</th>\n",
       "      <td id=\"T_d3bd2_row1_col0\" class=\"data row1 col0\" >2</td>\n",
       "      <td id=\"T_d3bd2_row1_col1\" class=\"data row1 col1\" >8</td>\n",
       "      <td id=\"T_d3bd2_row1_col2\" class=\"data row1 col2\" >4921.530000</td>\n",
       "      <td id=\"T_d3bd2_row1_col3\" class=\"data row1 col3\" >402</td>\n",
       "    </tr>\n",
       "    <tr>\n",
       "      <th id=\"T_d3bd2_level0_row2\" class=\"row_heading level0 row2\" >12348.000000</th>\n",
       "      <td id=\"T_d3bd2_row2_col0\" class=\"data row2 col0\" >75</td>\n",
       "      <td id=\"T_d3bd2_row2_col1\" class=\"data row2 col1\" >5</td>\n",
       "      <td id=\"T_d3bd2_row2_col2\" class=\"data row2 col2\" >1991.860000</td>\n",
       "      <td id=\"T_d3bd2_row2_col3\" class=\"data row2 col3\" >362</td>\n",
       "    </tr>\n",
       "    <tr>\n",
       "      <th id=\"T_d3bd2_level0_row3\" class=\"row_heading level0 row3\" >12349.000000</th>\n",
       "      <td id=\"T_d3bd2_row3_col0\" class=\"data row3 col0\" >18</td>\n",
       "      <td id=\"T_d3bd2_row3_col1\" class=\"data row3 col1\" >4</td>\n",
       "      <td id=\"T_d3bd2_row3_col2\" class=\"data row3 col2\" >3786.500000</td>\n",
       "      <td id=\"T_d3bd2_row3_col3\" class=\"data row3 col3\" >570</td>\n",
       "    </tr>\n",
       "    <tr>\n",
       "      <th id=\"T_d3bd2_level0_row4\" class=\"row_heading level0 row4\" >12352.000000</th>\n",
       "      <td id=\"T_d3bd2_row4_col0\" class=\"data row4 col0\" >36</td>\n",
       "      <td id=\"T_d3bd2_row4_col1\" class=\"data row4 col1\" >10</td>\n",
       "      <td id=\"T_d3bd2_row4_col2\" class=\"data row4 col2\" >2098.940000</td>\n",
       "      <td id=\"T_d3bd2_row4_col3\" class=\"data row4 col3\" >356</td>\n",
       "    </tr>\n",
       "  </tbody>\n",
       "</table>\n"
      ],
      "text/plain": [
       "<pandas.io.formats.style.Styler at 0x7fcf56c0a7d0>"
      ]
     },
     "execution_count": 19,
     "metadata": {},
     "output_type": "execute_result"
    }
   ],
   "source": [
    "RFM[\"Shopping_Cycle\"] = Shopping_Cycle\n",
    "RFM.head().style.set_properties(**{\"background-color\": \"#cd5c5c\",\"color\": \"black\", \"border-color\": \"black\"})"
   ]
  },
  {
   "cell_type": "code",
   "execution_count": 20,
   "id": "a4e6639f",
   "metadata": {
    "execution": {
     "iopub.execute_input": "2023-07-24T12:26:03.844968Z",
     "iopub.status.busy": "2023-07-24T12:26:03.844679Z",
     "iopub.status.idle": "2023-07-24T12:26:03.860687Z",
     "shell.execute_reply": "2023-07-24T12:26:03.859404Z"
    },
    "papermill": {
     "duration": 0.034239,
     "end_time": "2023-07-24T12:26:03.863402",
     "exception": false,
     "start_time": "2023-07-24T12:26:03.829163",
     "status": "completed"
    },
    "tags": []
   },
   "outputs": [
    {
     "data": {
      "text/html": [
       "<style type=\"text/css\">\n",
       "#T_bff56_row0_col0, #T_bff56_row0_col1, #T_bff56_row0_col2, #T_bff56_row0_col3, #T_bff56_row1_col0, #T_bff56_row1_col1, #T_bff56_row1_col2, #T_bff56_row1_col3, #T_bff56_row2_col0, #T_bff56_row2_col1, #T_bff56_row2_col2, #T_bff56_row2_col3, #T_bff56_row3_col0, #T_bff56_row3_col1, #T_bff56_row3_col2, #T_bff56_row3_col3, #T_bff56_row4_col0, #T_bff56_row4_col1, #T_bff56_row4_col2, #T_bff56_row4_col3 {\n",
       "  background-color: #cd5c5c;\n",
       "  color: black;\n",
       "  border-color: black;\n",
       "}\n",
       "</style>\n",
       "<table id=\"T_bff56\">\n",
       "  <thead>\n",
       "    <tr>\n",
       "      <th class=\"blank level0\" >&nbsp;</th>\n",
       "      <th id=\"T_bff56_level0_col0\" class=\"col_heading level0 col0\" >Recency</th>\n",
       "      <th id=\"T_bff56_level0_col1\" class=\"col_heading level0 col1\" >Frequency</th>\n",
       "      <th id=\"T_bff56_level0_col2\" class=\"col_heading level0 col2\" >Monetary</th>\n",
       "      <th id=\"T_bff56_level0_col3\" class=\"col_heading level0 col3\" >Interpurchase_Time</th>\n",
       "    </tr>\n",
       "    <tr>\n",
       "      <th class=\"index_name level0\" >Customer ID</th>\n",
       "      <th class=\"blank col0\" >&nbsp;</th>\n",
       "      <th class=\"blank col1\" >&nbsp;</th>\n",
       "      <th class=\"blank col2\" >&nbsp;</th>\n",
       "      <th class=\"blank col3\" >&nbsp;</th>\n",
       "    </tr>\n",
       "  </thead>\n",
       "  <tbody>\n",
       "    <tr>\n",
       "      <th id=\"T_bff56_level0_row0\" class=\"row_heading level0 row0\" >12346.000000</th>\n",
       "      <td id=\"T_bff56_row0_col0\" class=\"data row0 col0\" >325</td>\n",
       "      <td id=\"T_bff56_row0_col1\" class=\"data row0 col1\" >12</td>\n",
       "      <td id=\"T_bff56_row0_col2\" class=\"data row0 col2\" >745.700000</td>\n",
       "      <td id=\"T_bff56_row0_col3\" class=\"data row0 col3\" >33</td>\n",
       "    </tr>\n",
       "    <tr>\n",
       "      <th id=\"T_bff56_level0_row1\" class=\"row_heading level0 row1\" >12347.000000</th>\n",
       "      <td id=\"T_bff56_row1_col0\" class=\"data row1 col0\" >2</td>\n",
       "      <td id=\"T_bff56_row1_col1\" class=\"data row1 col1\" >8</td>\n",
       "      <td id=\"T_bff56_row1_col2\" class=\"data row1 col2\" >4921.530000</td>\n",
       "      <td id=\"T_bff56_row1_col3\" class=\"data row1 col3\" >50</td>\n",
       "    </tr>\n",
       "    <tr>\n",
       "      <th id=\"T_bff56_level0_row2\" class=\"row_heading level0 row2\" >12348.000000</th>\n",
       "      <td id=\"T_bff56_row2_col0\" class=\"data row2 col0\" >75</td>\n",
       "      <td id=\"T_bff56_row2_col1\" class=\"data row2 col1\" >5</td>\n",
       "      <td id=\"T_bff56_row2_col2\" class=\"data row2 col2\" >1991.860000</td>\n",
       "      <td id=\"T_bff56_row2_col3\" class=\"data row2 col3\" >72</td>\n",
       "    </tr>\n",
       "    <tr>\n",
       "      <th id=\"T_bff56_level0_row3\" class=\"row_heading level0 row3\" >12349.000000</th>\n",
       "      <td id=\"T_bff56_row3_col0\" class=\"data row3 col0\" >18</td>\n",
       "      <td id=\"T_bff56_row3_col1\" class=\"data row3 col1\" >4</td>\n",
       "      <td id=\"T_bff56_row3_col2\" class=\"data row3 col2\" >3786.500000</td>\n",
       "      <td id=\"T_bff56_row3_col3\" class=\"data row3 col3\" >142</td>\n",
       "    </tr>\n",
       "    <tr>\n",
       "      <th id=\"T_bff56_level0_row4\" class=\"row_heading level0 row4\" >12352.000000</th>\n",
       "      <td id=\"T_bff56_row4_col0\" class=\"data row4 col0\" >36</td>\n",
       "      <td id=\"T_bff56_row4_col1\" class=\"data row4 col1\" >10</td>\n",
       "      <td id=\"T_bff56_row4_col2\" class=\"data row4 col2\" >2098.940000</td>\n",
       "      <td id=\"T_bff56_row4_col3\" class=\"data row4 col3\" >35</td>\n",
       "    </tr>\n",
       "  </tbody>\n",
       "</table>\n"
      ],
      "text/plain": [
       "<pandas.io.formats.style.Styler at 0x7fcf57f708e0>"
      ]
     },
     "execution_count": 20,
     "metadata": {},
     "output_type": "execute_result"
    }
   ],
   "source": [
    "RFM[\"Interpurchase_Time\"] = RFM[\"Shopping_Cycle\"] // RFM[\"Frequency\"]\n",
    "RFMT = RFM[[\"Recency\",\"Frequency\",\"Monetary\",\"Interpurchase_Time\"]]\n",
    "RFMT.head().style.set_properties(**{\"background-color\": \"#cd5c5c\",\"color\": \"black\", \"border-color\": \"black\"})"
   ]
  },
  {
   "cell_type": "markdown",
   "id": "a99df4a5",
   "metadata": {
    "papermill": {
     "duration": 0.014617,
     "end_time": "2023-07-24T12:26:03.893911",
     "exception": false,
     "start_time": "2023-07-24T12:26:03.879294",
     "status": "completed"
    },
    "tags": []
   },
   "source": [
    "<h1 style=\"color:#adff2f;font-size:25px;font-family:Georgia;text-align:center;\"><strong>😀RFMT Model is ready for segmentation😀 <strong style=\"color:#adff2f;font-size:30px;font-family:Georgia;\"></strong></strong></h1>"
   ]
  },
  {
   "cell_type": "markdown",
   "id": "1dbaa63b",
   "metadata": {
    "papermill": {
     "duration": 0.014574,
     "end_time": "2023-07-24T12:26:03.922874",
     "exception": false,
     "start_time": "2023-07-24T12:26:03.908300",
     "status": "completed"
    },
    "tags": []
   },
   "source": [
    "<a id=\"7\"></a>\n",
    "<p style=\"background-color:#ff0000;font-family:Georgia;color:#ff0000;font-size:105%;text-align:center;border-radius:10px 10px;border-style: dotted;border-width:15px;border-color:#ff0000;\"></p>\n",
    "<h1 style=\"color:black;font-size:32px;font-family:Georgia;text-align:center;\">👨•💻<strong>Modelling  <strong style=\"color:#ff0000;font-size:30px;font-family:Georgia;\"><strong style=\"color:#ff0000;font-size:30px;font-family:Georgia;\">with KMeans Algorithm</strong></strong></strong>👨•💻</h1>"
   ]
  },
  {
   "cell_type": "code",
   "execution_count": 21,
   "id": "3fd0cd0a",
   "metadata": {
    "execution": {
     "iopub.execute_input": "2023-07-24T12:26:03.953089Z",
     "iopub.status.busy": "2023-07-24T12:26:03.952765Z",
     "iopub.status.idle": "2023-07-24T12:26:06.297979Z",
     "shell.execute_reply": "2023-07-24T12:26:06.297102Z"
    },
    "papermill": {
     "duration": 2.364646,
     "end_time": "2023-07-24T12:26:06.301626",
     "exception": false,
     "start_time": "2023-07-24T12:26:03.936980",
     "status": "completed"
    },
    "tags": []
   },
   "outputs": [
    {
     "data": {
      "image/png": "[encoded data removed]",
      "text/plain": [
       "<Figure size 1000x500 with 2 Axes>"
      ]
     },
     "metadata": {},
     "output_type": "display_data"
    },
    {
     "name": "stdout",
     "output_type": "stream",
     "text": [
      "Therefore K = 4\n"
     ]
    }
   ],
   "source": [
    "# Finding initial K value using Elbow Method\n",
    "plt.figure(figsize=(10,5))\n",
    "ax = plt.axes()\n",
    "ax.set_facecolor(\"#cd5c5c\")\n",
    "Elbow_M = KElbowVisualizer(KMeans(), k=10) \n",
    "Elbow_M.fit(RFMT)\n",
    "Elbow_M.show()\n",
    "print(\"Therefore K = 4\")"
   ]
  },
  {
   "cell_type": "code",
   "execution_count": 22,
   "id": "12256690",
   "metadata": {
    "execution": {
     "iopub.execute_input": "2023-07-24T12:26:06.335021Z",
     "iopub.status.busy": "2023-07-24T12:26:06.334716Z",
     "iopub.status.idle": "2023-07-24T12:26:06.437794Z",
     "shell.execute_reply": "2023-07-24T12:26:06.437024Z"
    },
    "papermill": {
     "duration": 0.122966,
     "end_time": "2023-07-24T12:26:06.440772",
     "exception": false,
     "start_time": "2023-07-24T12:26:06.317806",
     "status": "completed"
    },
    "tags": []
   },
   "outputs": [
    {
     "data": {
      "text/html": [
       "<style>#sk-container-id-1 {color: black;background-color: white;}#sk-container-id-1 pre{padding: 0;}#sk-container-id-1 div.sk-toggleable {background-color: white;}#sk-container-id-1 label.sk-toggleable__label {cursor: pointer;display: block;width: 100%;margin-bottom: 0;padding: 0.3em;box-sizing: border-box;text-align: center;}#sk-container-id-1 label.sk-toggleable__label-arrow:before {content: \"▸\";float: left;margin-right: 0.25em;color: #696969;}#sk-container-id-1 label.sk-toggleable__label-arrow:hover:before {color: black;}#sk-container-id-1 div.sk-estimator:hover label.sk-toggleable__label-arrow:before {color: black;}#sk-container-id-1 div.sk-toggleable__content {max-height: 0;max-width: 0;overflow: hidden;text-align: left;background-color: #f0f8ff;}#sk-container-id-1 div.sk-toggleable__content pre {margin: 0.2em;color: black;border-radius: 0.25em;background-color: #f0f8ff;}#sk-container-id-1 input.sk-toggleable__control:checked~div.sk-toggleable__content {max-height: 200px;max-width: 100%;overflow: auto;}#sk-container-id-1 input.sk-toggleable__control:checked~label.sk-toggleable__label-arrow:before {content: \"▾\";}#sk-container-id-1 div.sk-estimator input.sk-toggleable__control:checked~label.sk-toggleable__label {background-color: #d4ebff;}#sk-container-id-1 div.sk-label input.sk-toggleable__control:checked~label.sk-toggleable__label {background-color: #d4ebff;}#sk-container-id-1 input.sk-hidden--visually {border: 0;clip: rect(1px 1px 1px 1px);clip: rect(1px, 1px, 1px, 1px);height: 1px;margin: -1px;overflow: hidden;padding: 0;position: absolute;width: 1px;}#sk-container-id-1 div.sk-estimator {font-family: monospace;background-color: #f0f8ff;border: 1px dotted black;border-radius: 0.25em;box-sizing: border-box;margin-bottom: 0.5em;}#sk-container-id-1 div.sk-estimator:hover {background-color: #d4ebff;}#sk-container-id-1 div.sk-parallel-item::after {content: \"\";width: 100%;border-bottom: 1px solid gray;flex-grow: 1;}#sk-container-id-1 div.sk-label:hover label.sk-toggleable__label {background-color: #d4ebff;}#sk-container-id-1 div.sk-serial::before {content: \"\";position: absolute;border-left: 1px solid gray;box-sizing: border-box;top: 0;bottom: 0;left: 50%;z-index: 0;}#sk-container-id-1 div.sk-serial {display: flex;flex-direction: column;align-items: center;background-color: white;padding-right: 0.2em;padding-left: 0.2em;position: relative;}#sk-container-id-1 div.sk-item {position: relative;z-index: 1;}#sk-container-id-1 div.sk-parallel {display: flex;align-items: stretch;justify-content: center;background-color: white;position: relative;}#sk-container-id-1 div.sk-item::before, #sk-container-id-1 div.sk-parallel-item::before {content: \"\";position: absolute;border-left: 1px solid gray;box-sizing: border-box;top: 0;bottom: 0;left: 50%;z-index: -1;}#sk-container-id-1 div.sk-parallel-item {display: flex;flex-direction: column;z-index: 1;position: relative;background-color: white;}#sk-container-id-1 div.sk-parallel-item:first-child::after {align-self: flex-end;width: 50%;}#sk-container-id-1 div.sk-parallel-item:last-child::after {align-self: flex-start;width: 50%;}#sk-container-id-1 div.sk-parallel-item:only-child::after {width: 0;}#sk-container-id-1 div.sk-dashed-wrapped {border: 1px dashed gray;margin: 0 0.4em 0.5em 0.4em;box-sizing: border-box;padding-bottom: 0.4em;background-color: white;}#sk-container-id-1 div.sk-label label {font-family: monospace;font-weight: bold;display: inline-block;line-height: 1.2em;}#sk-container-id-1 div.sk-label-container {text-align: center;}#sk-container-id-1 div.sk-container {/* jupyter's `normalize.less` sets `[hidden] { display: none; }` but bootstrap.min.css set `[hidden] { display: none !important; }` so we also need the `!important` here to be able to override the default hidden behavior on the sphinx rendered scikit-learn.org. See: https://github.com/scikit-learn/scikit-learn/issues/21755 */display: inline-block !important;position: relative;}#sk-container-id-1 div.sk-text-repr-fallback {display: none;}</style><div id=\"sk-container-id-1\" class=\"sk-top-container\"><div class=\"sk-text-repr-fallback\"><pre>KMeans(max_iter=50, n_clusters=4)</pre><b>In a Jupyter environment, please rerun this cell to show the HTML representation or trust the notebook. <br />On GitHub, the HTML representation is unable to render, please try loading this page with nbviewer.org.</b></div><div class=\"sk-container\" hidden><div class=\"sk-item\"><div class=\"sk-estimator sk-toggleable\"><input class=\"sk-toggleable__control sk-hidden--visually\" id=\"sk-estimator-id-1\" type=\"checkbox\" checked><label for=\"sk-estimator-id-1\" class=\"sk-toggleable__label sk-toggleable__label-arrow\">KMeans</label><div class=\"sk-toggleable__content\"><pre>KMeans(max_iter=50, n_clusters=4)</pre></div></div></div></div></div>"
      ],
      "text/plain": [
       "KMeans(max_iter=50, n_clusters=4)"
      ]
     },
     "execution_count": 22,
     "metadata": {},
     "output_type": "execute_result"
    }
   ],
   "source": [
    "#Fitting KMeans Model\n",
    "kmeans = KMeans(n_clusters=4,max_iter=50)\n",
    "kmeans.fit(RFMT)"
   ]
  },
  {
   "cell_type": "code",
   "execution_count": 23,
   "id": "30f676cf",
   "metadata": {
    "execution": {
     "iopub.execute_input": "2023-07-24T12:26:06.513188Z",
     "iopub.status.busy": "2023-07-24T12:26:06.512876Z",
     "iopub.status.idle": "2023-07-24T12:26:06.536973Z",
     "shell.execute_reply": "2023-07-24T12:26:06.535846Z"
    },
    "papermill": {
     "duration": 0.059322,
     "end_time": "2023-07-24T12:26:06.539341",
     "exception": false,
     "start_time": "2023-07-24T12:26:06.480019",
     "status": "completed"
    },
    "tags": []
   },
   "outputs": [
    {
     "data": {
      "text/html": [
       "<style type=\"text/css\">\n",
       "#T_7fbbf_row0_col0, #T_7fbbf_row0_col1, #T_7fbbf_row0_col2, #T_7fbbf_row0_col3, #T_7fbbf_row0_col4, #T_7fbbf_row1_col0, #T_7fbbf_row1_col1, #T_7fbbf_row1_col2, #T_7fbbf_row1_col3, #T_7fbbf_row1_col4, #T_7fbbf_row2_col0, #T_7fbbf_row2_col1, #T_7fbbf_row2_col2, #T_7fbbf_row2_col3, #T_7fbbf_row2_col4, #T_7fbbf_row3_col0, #T_7fbbf_row3_col1, #T_7fbbf_row3_col2, #T_7fbbf_row3_col3, #T_7fbbf_row3_col4, #T_7fbbf_row4_col0, #T_7fbbf_row4_col1, #T_7fbbf_row4_col2, #T_7fbbf_row4_col3, #T_7fbbf_row4_col4 {\n",
       "  background-color: #cd5c5c;\n",
       "  color: black;\n",
       "  border-color: black;\n",
       "}\n",
       "</style>\n",
       "<table id=\"T_7fbbf\">\n",
       "  <thead>\n",
       "    <tr>\n",
       "      <th class=\"blank level0\" >&nbsp;</th>\n",
       "      <th id=\"T_7fbbf_level0_col0\" class=\"col_heading level0 col0\" >Recency</th>\n",
       "      <th id=\"T_7fbbf_level0_col1\" class=\"col_heading level0 col1\" >Frequency</th>\n",
       "      <th id=\"T_7fbbf_level0_col2\" class=\"col_heading level0 col2\" >Monetary</th>\n",
       "      <th id=\"T_7fbbf_level0_col3\" class=\"col_heading level0 col3\" >Interpurchase_Time</th>\n",
       "      <th id=\"T_7fbbf_level0_col4\" class=\"col_heading level0 col4\" >Clusters</th>\n",
       "    </tr>\n",
       "    <tr>\n",
       "      <th class=\"index_name level0\" >Customer ID</th>\n",
       "      <th class=\"blank col0\" >&nbsp;</th>\n",
       "      <th class=\"blank col1\" >&nbsp;</th>\n",
       "      <th class=\"blank col2\" >&nbsp;</th>\n",
       "      <th class=\"blank col3\" >&nbsp;</th>\n",
       "      <th class=\"blank col4\" >&nbsp;</th>\n",
       "    </tr>\n",
       "  </thead>\n",
       "  <tbody>\n",
       "    <tr>\n",
       "      <th id=\"T_7fbbf_level0_row0\" class=\"row_heading level0 row0\" >12346.000000</th>\n",
       "      <td id=\"T_7fbbf_row0_col0\" class=\"data row0 col0\" >325</td>\n",
       "      <td id=\"T_7fbbf_row0_col1\" class=\"data row0 col1\" >12</td>\n",
       "      <td id=\"T_7fbbf_row0_col2\" class=\"data row0 col2\" >745.700000</td>\n",
       "      <td id=\"T_7fbbf_row0_col3\" class=\"data row0 col3\" >33</td>\n",
       "      <td id=\"T_7fbbf_row0_col4\" class=\"data row0 col4\" >3</td>\n",
       "    </tr>\n",
       "    <tr>\n",
       "      <th id=\"T_7fbbf_level0_row1\" class=\"row_heading level0 row1\" >12347.000000</th>\n",
       "      <td id=\"T_7fbbf_row1_col0\" class=\"data row1 col0\" >2</td>\n",
       "      <td id=\"T_7fbbf_row1_col1\" class=\"data row1 col1\" >8</td>\n",
       "      <td id=\"T_7fbbf_row1_col2\" class=\"data row1 col2\" >4921.530000</td>\n",
       "      <td id=\"T_7fbbf_row1_col3\" class=\"data row1 col3\" >50</td>\n",
       "      <td id=\"T_7fbbf_row1_col4\" class=\"data row1 col4\" >3</td>\n",
       "    </tr>\n",
       "    <tr>\n",
       "      <th id=\"T_7fbbf_level0_row2\" class=\"row_heading level0 row2\" >12348.000000</th>\n",
       "      <td id=\"T_7fbbf_row2_col0\" class=\"data row2 col0\" >75</td>\n",
       "      <td id=\"T_7fbbf_row2_col1\" class=\"data row2 col1\" >5</td>\n",
       "      <td id=\"T_7fbbf_row2_col2\" class=\"data row2 col2\" >1991.860000</td>\n",
       "      <td id=\"T_7fbbf_row2_col3\" class=\"data row2 col3\" >72</td>\n",
       "      <td id=\"T_7fbbf_row2_col4\" class=\"data row2 col4\" >3</td>\n",
       "    </tr>\n",
       "    <tr>\n",
       "      <th id=\"T_7fbbf_level0_row3\" class=\"row_heading level0 row3\" >12349.000000</th>\n",
       "      <td id=\"T_7fbbf_row3_col0\" class=\"data row3 col0\" >18</td>\n",
       "      <td id=\"T_7fbbf_row3_col1\" class=\"data row3 col1\" >4</td>\n",
       "      <td id=\"T_7fbbf_row3_col2\" class=\"data row3 col2\" >3786.500000</td>\n",
       "      <td id=\"T_7fbbf_row3_col3\" class=\"data row3 col3\" >142</td>\n",
       "      <td id=\"T_7fbbf_row3_col4\" class=\"data row3 col4\" >3</td>\n",
       "    </tr>\n",
       "    <tr>\n",
       "      <th id=\"T_7fbbf_level0_row4\" class=\"row_heading level0 row4\" >12352.000000</th>\n",
       "      <td id=\"T_7fbbf_row4_col0\" class=\"data row4 col0\" >36</td>\n",
       "      <td id=\"T_7fbbf_row4_col1\" class=\"data row4 col1\" >10</td>\n",
       "      <td id=\"T_7fbbf_row4_col2\" class=\"data row4 col2\" >2098.940000</td>\n",
       "      <td id=\"T_7fbbf_row4_col3\" class=\"data row4 col3\" >35</td>\n",
       "      <td id=\"T_7fbbf_row4_col4\" class=\"data row4 col4\" >3</td>\n",
       "    </tr>\n",
       "  </tbody>\n",
       "</table>\n"
      ],
      "text/plain": [
       "<pandas.io.formats.style.Styler at 0x7fcf56fc7a30>"
      ]
     },
     "execution_count": 23,
     "metadata": {},
     "output_type": "execute_result"
    }
   ],
   "source": [
    "RFMT[\"Clusters\"]=kmeans.labels_\n",
    "RFMT.head().style.set_properties(**{\"background-color\": \"#cd5c5c\",\"color\": \"black\", \"border-color\": \"black\"})"
   ]
  },
  {
   "cell_type": "markdown",
   "id": "6c410080",
   "metadata": {
    "execution": {
     "iopub.execute_input": "2023-07-08T13:07:42.913964Z",
     "iopub.status.busy": "2023-07-08T13:07:42.913316Z",
     "iopub.status.idle": "2023-07-08T13:07:42.921315Z",
     "shell.execute_reply": "2023-07-08T13:07:42.920008Z",
     "shell.execute_reply.started": "2023-07-08T13:07:42.913930Z"
    },
    "papermill": {
     "duration": 0.015784,
     "end_time": "2023-07-24T12:26:06.575721",
     "exception": false,
     "start_time": "2023-07-24T12:26:06.559937",
     "status": "completed"
    },
    "tags": []
   },
   "source": [
    "<a id=\"8\"></a>\n",
    "<p style=\"background-color:#ff0000;font-family:Georgia;color:#ff0000;font-size:105%;text-align:center;border-radius:10px 10px;border-style: dotted;border-width:15px;border-color:#ff0000;\"></p>\n",
    "<h1 style=\"color:black;font-size:32px;font-family:Georgia;text-align:center;\">👨‍💻<strong> Model : <strong style=\"color:#ff0000;font-size:30px;font-family:Georgia;\"><strong style=\"color:#ff0000;font-size:30px;font-family:Georgia;\">Evaluation</strong></strong></strong>👨‍💻</h1>"
   ]
  },
  {
   "cell_type": "code",
   "execution_count": 24,
   "id": "21a7557d",
   "metadata": {
    "execution": {
     "iopub.execute_input": "2023-07-24T12:26:06.608538Z",
     "iopub.status.busy": "2023-07-24T12:26:06.608259Z",
     "iopub.status.idle": "2023-07-24T12:26:06.615482Z",
     "shell.execute_reply": "2023-07-24T12:26:06.614420Z"
    },
    "papermill": {
     "duration": 0.026761,
     "end_time": "2023-07-24T12:26:06.618818",
     "exception": false,
     "start_time": "2023-07-24T12:26:06.592057",
     "status": "completed"
    },
    "tags": []
   },
   "outputs": [
    {
     "data": {
      "text/plain": [
       "array([[3.28024691e+01, 5.45185185e+01, 3.60880413e+04, 1.85308642e+01],\n",
       "       [5.00000000e-01, 1.48500000e+02, 5.22924278e+05, 4.50000000e+00],\n",
       "       [5.60000000e+00, 1.42900000e+02, 1.75188549e+05, 7.10000000e+00],\n",
       "       [1.44706872e+02, 7.01753964e+00, 2.42744928e+03, 7.00689572e+01]])"
      ]
     },
     "execution_count": 24,
     "metadata": {},
     "output_type": "execute_result"
    }
   ],
   "source": [
    "# how well the clusters are?:\n",
    "#centriods\n",
    "kmeans.cluster_centers_"
   ]
  },
  {
   "cell_type": "code",
   "execution_count": 25,
   "id": "5a6e78da",
   "metadata": {
    "execution": {
     "iopub.execute_input": "2023-07-24T12:26:06.654879Z",
     "iopub.status.busy": "2023-07-24T12:26:06.654604Z",
     "iopub.status.idle": "2023-07-24T12:26:07.079907Z",
     "shell.execute_reply": "2023-07-24T12:26:07.079017Z"
    },
    "papermill": {
     "duration": 0.444111,
     "end_time": "2023-07-24T12:26:07.082128",
     "exception": false,
     "start_time": "2023-07-24T12:26:06.638017",
     "status": "completed"
    },
    "tags": []
   },
   "outputs": [
    {
     "data": {
      "text/plain": [
       "<function matplotlib.pyplot.show(close=None, block=None)>"
      ]
     },
     "execution_count": 25,
     "metadata": {},
     "output_type": "execute_result"
    },
    {
     "data": {
      "image/png": "[encoded data removed]",
      "text/plain": [
       "<Figure size 1000x500 with 1 Axes>"
      ]
     },
     "metadata": {},
     "output_type": "display_data"
    }
   ],
   "source": [
    "# grouping the data in accorandance with each cluster seperately\n",
    "one = RFMT[RFMT[\"Clusters\"]==0]\n",
    "two = RFMT[RFMT[\"Clusters\"]==1]\n",
    "three = RFMT[RFMT[\"Clusters\"]==2]\n",
    "four = RFMT[RFMT[\"Clusters\"]==3]\n",
    "\n",
    "#Checking the quality of clustering in the data set\n",
    "plt.figure(figsize=(10,5))\n",
    "ax = plt.axes()\n",
    "ax.set_facecolor(\"#cd5c5c\")\n",
    "plt.scatter(one[\"Recency\"],one[\"Frequency\"],color='green')\n",
    "plt.scatter(two[\"Recency\"],two[\"Frequency\"],color='red')\n",
    "plt.scatter(three[\"Recency\"],three[\"Frequency\"],color='grey')\n",
    "plt.scatter(four[\"Recency\"],four[\"Frequency\"],color='blue')\n",
    "plt.scatter(kmeans.cluster_centers_[:,0],kmeans.cluster_centers_[:,1],color=\"yellow\",marker=\"*\",label=\"centroid\")\n",
    "plt.legend()\n",
    "plt.show "
   ]
  },
  {
   "cell_type": "markdown",
   "id": "b162e63e",
   "metadata": {
    "papermill": {
     "duration": 0.016149,
     "end_time": "2023-07-24T12:26:07.114799",
     "exception": false,
     "start_time": "2023-07-24T12:26:07.098650",
     "status": "completed"
    },
    "tags": []
   },
   "source": [
    "<p style= \"font-family:Georgia;color:black;font-size:20px;text-align:center;\">Silhouette Coefficient or silhouette score is a metric used to calculate the goodness of a clustering technique. Its value ranges from -1 to 1. \n",
    "    Score closer to 1, higher the cluster distinguished. </p>"
   ]
  },
  {
   "cell_type": "code",
   "execution_count": 26,
   "id": "8ddda5e0",
   "metadata": {
    "execution": {
     "iopub.execute_input": "2023-07-24T12:26:07.148641Z",
     "iopub.status.busy": "2023-07-24T12:26:07.147829Z",
     "iopub.status.idle": "2023-07-24T12:26:07.497877Z",
     "shell.execute_reply": "2023-07-24T12:26:07.496841Z"
    },
    "papermill": {
     "duration": 0.368944,
     "end_time": "2023-07-24T12:26:07.499973",
     "exception": false,
     "start_time": "2023-07-24T12:26:07.131029",
     "status": "completed"
    },
    "tags": []
   },
   "outputs": [
    {
     "name": "stdout",
     "output_type": "stream",
     "text": [
      "Silhouette score : 0.9018816038018654\n"
     ]
    }
   ],
   "source": [
    "from sklearn.metrics import silhouette_score\n",
    "print(\"Silhouette score :\",silhouette_score(RFMT, kmeans.labels_, metric='euclidean'))"
   ]
  },
  {
   "cell_type": "markdown",
   "id": "510a20b2",
   "metadata": {
    "execution": {
     "iopub.execute_input": "2023-07-08T13:29:59.511198Z",
     "iopub.status.busy": "2023-07-08T13:29:59.510766Z",
     "iopub.status.idle": "2023-07-08T13:29:59.520144Z",
     "shell.execute_reply": "2023-07-08T13:29:59.518791Z",
     "shell.execute_reply.started": "2023-07-08T13:29:59.511164Z"
    },
    "papermill": {
     "duration": 0.016616,
     "end_time": "2023-07-24T12:26:07.533653",
     "exception": false,
     "start_time": "2023-07-24T12:26:07.517037",
     "status": "completed"
    },
    "tags": []
   },
   "source": [
    "<a id=\"9\"></a>\n",
    "<p style=\"background-color:#ff0000;font-family:Georgia;color:#ff0000;font-size:105%;text-align:center;border-radius:10px 10px;border-style: dotted;border-width:15px;border-color:#ff0000;\"></p>\n",
    "<h1 style=\"color:black;font-size:32px;font-family:Georgia;text-align:center;\">👨‍💻<strong>Future Work </strong>👨‍💻</h1>\n",
    "<p style= \"font-family:Georgia;color:#000000;font-size:110%;text-align:center;\">I limited this kernel till Enhancing RFM Model my introducing new Attribute \"T\". However, it can be further extended to profiling the segments by RFMT scoring. Now its your time to have a hands on into the feild.<a href=\"https://www.kaggle.com/code/adarshcgowda/simplified-segmentation-rfm-kmeans\"> Check this notebook for customer profiling. </a> Feel free to download, copy and edit the notebook. Dont forget to link and credit my notebook if any part of it is used.<br>\n",
    "</p>"
   ]
  },
  {
   "cell_type": "markdown",
   "id": "1a29d2a0",
   "metadata": {
    "papermill": {
     "duration": 0.016595,
     "end_time": "2023-07-24T12:26:07.566486",
     "exception": false,
     "start_time": "2023-07-24T12:26:07.549891",
     "status": "completed"
    },
    "tags": []
   },
   "source": [
    "<a id=\"11\"></a>\n",
    "<p style=\"background-color:#ff0000;font-family:Georgia;color:#ff0000;font-size:105%;text-align:center;border-radius:10px 10px;border-style: dotted;border-width:15px;border-color:#ff0000;\"></p>\n",
    "<h1 style=\"color:black;font-size:32px;font-family:Georgia;text-align:center;\">👨‍💻<strong>Credits and Reference </strong>👨‍💻</h1>\n",
    "\n",
    "<p style= \"font-family:Georgia;color:#000000;font-size:110%;text-align:center;\"><a href=\"https://www.sciencedirect.com/science/article/abs/pii/S0969698921001545\">Jinfeng Zhou et al, “Customer segmentation by web content mining,” July 2021</a><br></p>\n",
    "\n",
    "<p style= \"font-family:Georgia;color:#000000;font-size:110%;text-align:center;\"><a href=\"https://www.kaggle.com/code/sonalisingh1411/smart-animated-charts-using-plotly\">Special thanks to Ms. Sonali Singh for making html look amazing</a><br></p>"
   ]
  },
  {
   "cell_type": "markdown",
   "id": "60467020",
   "metadata": {
    "papermill": {
     "duration": 0.016376,
     "end_time": "2023-07-24T12:26:07.599599",
     "exception": false,
     "start_time": "2023-07-24T12:26:07.583223",
     "status": "completed"
    },
    "tags": []
   },
   "source": [
    "<a id=\"11\"></a>\n",
    "<p style=\"background-color:#ff0000;font-family:Georgia;color:#ff0000;font-size:105%;text-align:center;border-radius:10px 10px;border-style: dotted;border-width:15px;border-color:#ff0000;\"></p>\n",
    "<h1 style=\"color:black;font-size:32px;font-family:Georgia;text-align:center;\">👨‍💻<strong>Other <strong style=\"color:#ff0000;font-size:30px;font-family:Georgia;\">Notebooks</strong></strong>👨‍💻</h1>\n",
    "<p style= \"font-family:Georgia;color:#000000;font-size:110%;text-align:center;\">\n",
    "<a href=\"https://www.kaggle.com/code/adarshcgowda/simplified-segmentation-rfm-kmeans\"> https://www.kaggle.com/code/adarshcgowda/simplified-segmentation-rfm-kmeans </a><br>\n",
    "<a href=\"https://www.kaggle.com/code/adarshcgowda/car-used-price-prediction-95-accuracy\"> https://www.kaggle.com/code/adarshcgowda/car-used-price-prediction-95-accuracy </a><br>\n",
    "<a href=\"https://www.kaggle.com/code/adarshcgowda/enjoy-learn-titanic-survival-beginner-guide\"> https://www.kaggle.com/code/adarshcgowda/enjoy-learn-titanic-survival-beginner-guide </a><br>\n",
    "    <p style=\"background-color:#ff0000;font-family:Georgia;color:#ff0000;font-size:105%;text-align:center;border-radius:10px 10px;border-style: dotted;border-width:17px;border-color:#ff0000;\"></p>"
   ]
  },
  {
   "cell_type": "code",
   "execution_count": null,
   "id": "64939037",
   "metadata": {
    "papermill": {
     "duration": 0.016501,
     "end_time": "2023-07-24T12:26:07.632866",
     "exception": false,
     "start_time": "2023-07-24T12:26:07.616365",
     "status": "completed"
    },
    "tags": []
   },
   "outputs": [],
   "source": []
  }
 ],
 "metadata": {
  "kernelspec": {
   "display_name": "Python 3",
   "language": "python",
   "name": "python3"
  },
  "language_info": {
   "codemirror_mode": {
    "name": "ipython",
    "version": 3
   },
   "file_extension": ".py",
   "mimetype": "text/x-python",
   "name": "python",
   "nbconvert_exporter": "python",
   "pygments_lexer": "ipython3",
   "version": "3.10.10"
  },
  "papermill": {
   "default_parameters": {},
   "duration": 36.510632,
   "end_time": "2023-07-24T12:26:08.472067",
   "environment_variables": {},
   "exception": null,
   "input_path": "__notebook__.ipynb",
   "output_path": "__notebook__.ipynb",
   "parameters": {},
   "start_time": "2023-07-24T12:25:31.961435",
   "version": "2.4.0"
  }
 },
 "nbformat": 4,
 "nbformat_minor": 5
}
